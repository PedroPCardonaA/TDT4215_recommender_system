{
 "cells": [
  {
   "cell_type": "markdown",
   "metadata": {},
   "source": [
    "## Demonstration of a Simple Cosine Similarity Content-Based Recommendation System\n",
    "In this file, the demonstration of the cosine similarity content-based recommender model recommending news is presented. \n",
    "It also includes the evaluation of the recommender model using the metrics *MAP@K and NDCG@K*."
   ]
  },
  {
   "cell_type": "code",
   "execution_count": 1,
   "metadata": {
    "ExecuteTime": {
     "end_time": "2025-02-06T10:09:43.496213Z",
     "start_time": "2025-02-06T10:09:43.178396Z"
    }
   },
   "outputs": [],
   "source": [
    "import sys\n",
    "import os\n",
    "\n",
    "parent_dir = os.path.abspath(os.path.join(os.getcwd(), \"..\"))\n",
    "sys.path.append(parent_dir)\n",
    "\n",
    "from utils.process_data import user_item_interaction_scores\n",
    "from parquet_data_reader import ParquetDataReader\n",
    "from models.content_based.content_based import CosineSimilarityContentBased\n",
    "\n",
    "import polars as pl\n",
    "import numpy as np\n",
    "parquet_reader = ParquetDataReader()"
   ]
  },
  {
   "cell_type": "markdown",
   "metadata": {},
   "source": [
    "### Reading Data and Preprocessing"
   ]
  },
  {
   "cell_type": "code",
   "execution_count": 2,
   "metadata": {
    "ExecuteTime": {
     "end_time": "2025-02-06T10:09:46.838421Z",
     "start_time": "2025-02-06T10:09:46.132909Z"
    }
   },
   "outputs": [],
   "source": [
    "train_behavior_df = parquet_reader.read_data(\"../../data/train/behaviors.parquet\")\n",
    "embeddings_df = parquet_reader.read_data(\"../../data/document_vector.parquet\")\n",
    "article_df = parquet_reader.read_data(\"../../data/articles.parquet\")\n",
    "test_behavior_df = parquet_reader.read_data(\"../../data/validation/behaviors.parquet\")\n",
    "processed_behavior_df = user_item_interaction_scores(train_behavior_df, article=article_df)"
   ]
  },
  {
   "cell_type": "markdown",
   "metadata": {},
   "source": [
    "### Recommendations"
   ]
  },
  {
   "cell_type": "code",
   "execution_count": 3,
   "metadata": {},
   "outputs": [
    {
     "name": "stderr",
     "output_type": "stream",
     "text": [
      "c:\\Users\\magnu\\NewDesk\\An.sys\\TDT4215\\recommender_system\\models\\content_based.py:153: RuntimeWarning: invalid value encountered in scalar divide\n",
      "  similarity = np.dot(user_vector, item_vector) / (\n"
     ]
    },
    {
     "name": "stdout",
     "output_type": "stream",
     "text": [
      "Recommendations for user 14241\n",
      "[7160857, 7789111, 6044108, 4925298, 7124272, 7592637, 5574958, 5622577, 7141651, 4340954]\n",
      "Score for user 14241 and item 6044108\n",
      "0.9761224341910408\n"
     ]
    }
   ],
   "source": [
    "content_based = CosineSimilarityContentBased(behavior_data=processed_behavior_df, item_data=embeddings_df)\n",
    "\n",
    "recommendations = content_based.recommend(14241, 10)\n",
    "score = content_based.score(14241, 6044108)\n",
    "\n",
    "print(\"Recommendations for user 14241\")\n",
    "print(recommendations)\n",
    "print(\"Score for user 14241 and item 6044108\")\n",
    "print(score)"
   ]
  },
  {
   "cell_type": "markdown",
   "metadata": {},
   "source": [
    "### Evaluation of the Cosine Similarity Content-Based Recommendation System"
   ]
  },
  {
   "cell_type": "code",
   "execution_count": 4,
   "metadata": {},
   "outputs": [],
   "source": [
    "results = content_based.evaluate_recommender(k=5,n_jobs=4,user_sample=15)"
   ]
  },
  {
   "cell_type": "code",
   "execution_count": null,
   "metadata": {},
   "outputs": [],
   "source": [
    "#TODO add precision and recall"
   ]
  },
  {
   "cell_type": "code",
   "execution_count": 5,
   "metadata": {},
   "outputs": [
    {
     "name": "stdout",
     "output_type": "stream",
     "text": [
      "Results\n"
     ]
    },
    {
     "data": {
      "text/plain": [
       "{'MAP@K': np.float64(0.0), 'NDCG@K': np.float64(0.0)}"
      ]
     },
     "execution_count": 5,
     "metadata": {},
     "output_type": "execute_result"
    }
   ],
   "source": [
    "print(\"Results\")\n",
    "results"
   ]
  },
  {
   "cell_type": "code",
   "execution_count": null,
   "metadata": {},
   "outputs": [
    {
     "name": "stderr",
     "output_type": "stream",
     "text": [
      "c:\\Users\\magnu\\NewDesk\\An.sys\\TDT4215\\recommender_system\\models\\content_based.py:153: RuntimeWarning: invalid value encountered in scalar divide\n",
      "  similarity = np.dot(user_vector, item_vector) / (\n"
     ]
    },
    {
     "ename": "KeyboardInterrupt",
     "evalue": "",
     "output_type": "error",
     "traceback": [
      "\u001b[1;31m---------------------------------------------------------------------------\u001b[0m",
      "\u001b[1;31mKeyboardInterrupt\u001b[0m                         Traceback (most recent call last)",
      "Cell \u001b[1;32mIn[7], line 4\u001b[0m\n\u001b[0;32m      1\u001b[0m \u001b[38;5;28;01mfrom\u001b[39;00m\u001b[38;5;250m \u001b[39m\u001b[38;5;21;01mutils\u001b[39;00m\u001b[38;5;21;01m.\u001b[39;00m\u001b[38;5;21;01mevaluation\u001b[39;00m\u001b[38;5;250m \u001b[39m\u001b[38;5;28;01mimport\u001b[39;00m append_model_metrics\n\u001b[0;32m      2\u001b[0m \u001b[38;5;28;01mfrom\u001b[39;00m\u001b[38;5;250m \u001b[39m\u001b[38;5;21;01mutils\u001b[39;00m\u001b[38;5;21;01m.\u001b[39;00m\u001b[38;5;21;01mevaluation\u001b[39;00m\u001b[38;5;250m \u001b[39m\u001b[38;5;28;01mimport\u001b[39;00m perform_model_evaluation\n\u001b[1;32m----> 4\u001b[0m metrics \u001b[38;5;241m=\u001b[39m \u001b[43mperform_model_evaluation\u001b[49m\u001b[43m(\u001b[49m\u001b[43mcontent_based\u001b[49m\u001b[43m,\u001b[49m\u001b[43m \u001b[49m\u001b[43mtest_behavior_df\u001b[49m\u001b[43m,\u001b[49m\u001b[43m \u001b[49m\u001b[43mk\u001b[49m\u001b[38;5;241;43m=\u001b[39;49m\u001b[38;5;241;43m5\u001b[39;49m\u001b[43m)\u001b[49m\n\u001b[0;32m      6\u001b[0m append_model_metrics(metrics, \u001b[38;5;124m\"\u001b[39m\u001b[38;5;124mcontent based\u001b[39m\u001b[38;5;124m\"\u001b[39m)\n",
      "File \u001b[1;32mc:\\Users\\magnu\\NewDesk\\An.sys\\TDT4215\\recommender_system\\utils\\evaluation.py:69\u001b[0m, in \u001b[0;36mperform_model_evaluation\u001b[1;34m(model, test_data, k)\u001b[0m\n\u001b[0;32m     67\u001b[0m \u001b[38;5;66;03m# Get recommendations for this user using the determined recommendation function.\u001b[39;00m\n\u001b[0;32m     68\u001b[0m \u001b[38;5;28;01mtry\u001b[39;00m:\n\u001b[1;32m---> 69\u001b[0m     recommended_items \u001b[38;5;241m=\u001b[39m \u001b[43mrec_func\u001b[49m\u001b[43m(\u001b[49m\u001b[43muser\u001b[49m\u001b[43m,\u001b[49m\u001b[43m \u001b[49m\u001b[43mn\u001b[49m\u001b[38;5;241;43m=\u001b[39;49m\u001b[43mk\u001b[49m\u001b[43m)\u001b[49m\n\u001b[0;32m     70\u001b[0m \u001b[38;5;28;01mexcept\u001b[39;00m \u001b[38;5;167;01mValueError\u001b[39;00m \u001b[38;5;28;01mas\u001b[39;00m e:\n\u001b[0;32m     71\u001b[0m     \u001b[38;5;66;03m# Skip users not found in the model.\u001b[39;00m\n\u001b[0;32m     72\u001b[0m     \u001b[38;5;28;01mcontinue\u001b[39;00m\n",
      "File \u001b[1;32mc:\\Users\\magnu\\NewDesk\\An.sys\\TDT4215\\recommender_system\\models\\content_based.py:153\u001b[0m, in \u001b[0;36mCosineSimilarityContentBased.recommend\u001b[1;34m(self, user_id, n)\u001b[0m\n\u001b[0;32m    150\u001b[0m \u001b[38;5;28;01mfor\u001b[39;00m item_id, item_vector \u001b[38;5;129;01min\u001b[39;00m \u001b[38;5;28mself\u001b[39m\u001b[38;5;241m.\u001b[39mitem_vectors\u001b[38;5;241m.\u001b[39mitems():\n\u001b[0;32m    151\u001b[0m     \u001b[38;5;28;01mif\u001b[39;00m item_id \u001b[38;5;129;01mnot\u001b[39;00m \u001b[38;5;129;01min\u001b[39;00m rated_items:\n\u001b[0;32m    152\u001b[0m         \u001b[38;5;66;03m# Compute cosine similarity between the user and item vectors.\u001b[39;00m\n\u001b[1;32m--> 153\u001b[0m         similarity \u001b[38;5;241m=\u001b[39m \u001b[43mnp\u001b[49m\u001b[38;5;241;43m.\u001b[39;49m\u001b[43mdot\u001b[49m\u001b[43m(\u001b[49m\u001b[43muser_vector\u001b[49m\u001b[43m,\u001b[49m\u001b[43m \u001b[49m\u001b[43mitem_vector\u001b[49m\u001b[43m)\u001b[49m \u001b[38;5;241m/\u001b[39m (\n\u001b[0;32m    154\u001b[0m             np\u001b[38;5;241m.\u001b[39mlinalg\u001b[38;5;241m.\u001b[39mnorm(user_vector) \u001b[38;5;241m*\u001b[39m np\u001b[38;5;241m.\u001b[39mlinalg\u001b[38;5;241m.\u001b[39mnorm(item_vector)\n\u001b[0;32m    155\u001b[0m         )\n\u001b[0;32m    156\u001b[0m         similarities\u001b[38;5;241m.\u001b[39mappend((item_id, similarity))\n\u001b[0;32m    158\u001b[0m similarities\u001b[38;5;241m.\u001b[39msort(key\u001b[38;5;241m=\u001b[39m\u001b[38;5;28;01mlambda\u001b[39;00m x: x[\u001b[38;5;241m1\u001b[39m], reverse\u001b[38;5;241m=\u001b[39m\u001b[38;5;28;01mTrue\u001b[39;00m)\n",
      "\u001b[1;31mKeyboardInterrupt\u001b[0m: "
     ]
    }
   ],
   "source": [
    "# from utils.evaluation import append_model_metrics\n",
    "# from utils.evaluation import perform_model_evaluation\n",
    "\n",
    "# metrics = perform_model_evaluation(content_based, test_behavior_df, k=5)\n",
    "\n",
    "# append_model_metrics(metrics, \"content based\")\n",
    "\n",
    "# TODO: fix"
   ]
  }
 ],
 "metadata": {
  "kernelspec": {
   "display_name": "venv",
   "language": "python",
   "name": "python3"
  },
  "language_info": {
   "codemirror_mode": {
    "name": "ipython",
    "version": 3
   },
   "file_extension": ".py",
   "mimetype": "text/x-python",
   "name": "python",
   "nbconvert_exporter": "python",
   "pygments_lexer": "ipython3",
   "version": "3.11.9"
  }
 },
 "nbformat": 4,
 "nbformat_minor": 2
}

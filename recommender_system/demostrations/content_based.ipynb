{
 "cells": [
  {
   "cell_type": "markdown",
   "metadata": {},
   "source": [
    "## Demonstration of a Simple Cosine Similarity Content-Based Recommendation System\n",
    "In this file, the demonstration of the cosine similarity content-based recommender model recommending news is presented. \n",
    "It also includes the evaluation of the recommender model using the metrics *MAP@K and NDCG@K*."
   ]
  },
  {
   "cell_type": "code",
   "execution_count": 8,
   "metadata": {
    "ExecuteTime": {
     "end_time": "2025-02-06T10:09:43.496213Z",
     "start_time": "2025-02-06T10:09:43.178396Z"
    }
   },
   "outputs": [],
   "source": [
    "import sys\n",
    "import os\n",
    "\n",
    "parent_dir = os.path.abspath(os.path.join(os.getcwd(), \"..\"))\n",
    "sys.path.append(parent_dir)\n",
    "\n",
    "from utils.process_data import user_item_interaction_scores\n",
    "from parquet_data_reader import ParquetDataReader\n",
    "from models.content_based.content_based import CosineSimilarityContentBased\n",
    "\n",
    "import polars as pl\n",
    "import numpy as np\n",
    "parquet_reader = ParquetDataReader()"
   ]
  },
  {
   "cell_type": "markdown",
   "metadata": {},
   "source": [
    "### Reading Data and Preprocessing"
   ]
  },
  {
   "cell_type": "code",
   "execution_count": 9,
   "metadata": {
    "ExecuteTime": {
     "end_time": "2025-02-06T10:09:46.838421Z",
     "start_time": "2025-02-06T10:09:46.132909Z"
    }
   },
   "outputs": [],
   "source": [
    "train_behavior_df = parquet_reader.read_data(\"../../data/train/behaviors.parquet\")\n",
    "embeddings_df = parquet_reader.read_data(\"../../data/document_vector.parquet\")\n",
    "article_df = parquet_reader.read_data(\"../../data/articles.parquet\")\n",
    "test_behavior_df = parquet_reader.read_data(\"../../data/validation/behaviors.parquet\")\n",
    "processed_behavior_df = user_item_interaction_scores(train_behavior_df, article=article_df)"
   ]
  },
  {
   "cell_type": "markdown",
   "metadata": {},
   "source": [
    "### Recommendations"
   ]
  },
  {
   "cell_type": "code",
   "execution_count": 10,
   "metadata": {},
   "outputs": [
    {
     "name": "stdout",
     "output_type": "stream",
     "text": [
      "Recommendations for user 14241\n",
      "[7160857, 7789111, 6044108, 4925298, 7124272]\n",
      "Score for user 14241 and item 6044108\n",
      "0.9761224341910408\n"
     ]
    }
   ],
   "source": [
    "content_based = CosineSimilarityContentBased(behavior_data=processed_behavior_df, item_data=embeddings_df)\n",
    "\n",
    "recommendations = content_based.recommend(14241, 5)\n",
    "score = content_based.score(14241, 6044108)\n",
    "\n",
    "print(\"Recommendations for user 14241\")\n",
    "print(recommendations)\n",
    "print(\"Score for user 14241 and item 6044108\")\n",
    "print(score)"
   ]
  },
  {
   "cell_type": "markdown",
   "metadata": {},
   "source": [
    "### Evaluation of the Cosine Similarity Content-Based Recommendation System"
   ]
  },
  {
   "cell_type": "code",
   "execution_count": 11,
   "metadata": {},
   "outputs": [],
   "source": [
    "results = content_based.evaluate_recommender(k=5,n_jobs=4,user_sample=15)"
   ]
  },
  {
   "cell_type": "code",
   "execution_count": 12,
   "metadata": {},
   "outputs": [
    {
     "name": "stdout",
     "output_type": "stream",
     "text": [
      "Results\n"
     ]
    },
    {
     "data": {
      "text/plain": [
       "{'MAP@K': np.float64(0.0), 'NDCG@K': np.float64(0.0)}"
      ]
     },
     "execution_count": 12,
     "metadata": {},
     "output_type": "execute_result"
    }
   ],
   "source": [
    "print(\"Results\")\n",
    "results"
   ]
  },
  {
   "cell_type": "markdown",
   "metadata": {},
   "source": [
    "### Gini Coefficient\n",
    "Prints the gini coefficient for the recommendations"
   ]
  },
  {
   "cell_type": "code",
   "execution_count": null,
   "metadata": {},
   "outputs": [],
   "source": [
    "from "
   ]
  }
 ],
 "metadata": {
  "kernelspec": {
   "display_name": "venv",
   "language": "python",
   "name": "python3"
  },
  "language_info": {
   "codemirror_mode": {
    "name": "ipython",
    "version": 3
   },
   "file_extension": ".py",
   "mimetype": "text/x-python",
   "name": "python",
   "nbconvert_exporter": "python",
   "pygments_lexer": "ipython3",
   "version": "3.11.9"
  }
 },
 "nbformat": 4,
 "nbformat_minor": 2
}

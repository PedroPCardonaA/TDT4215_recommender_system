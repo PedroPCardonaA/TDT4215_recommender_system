{
 "cells": [
  {
   "cell_type": "markdown",
   "metadata": {},
   "source": [
    "# Demonstration of the Data Processing file\n",
    "\n",
    "This file will go through the reasoning behind the preprocessing done in utils/data_preprocessing"
   ]
  },
  {
   "cell_type": "markdown",
   "metadata": {},
   "source": [
    "## Setup"
   ]
  },
  {
   "cell_type": "markdown",
   "metadata": {},
   "source": [
    "We import the DataProcesser, and configure polars for the demonstration"
   ]
  },
  {
   "cell_type": "code",
   "execution_count": 1,
   "metadata": {
    "ExecuteTime": {
     "end_time": "2025-02-06T10:10:25.109748Z",
     "start_time": "2025-02-06T10:10:25.062354Z"
    }
   },
   "outputs": [
    {
     "data": {
      "text/plain": [
       "polars.config.Config"
      ]
     },
     "execution_count": 1,
     "metadata": {},
     "output_type": "execute_result"
    }
   ],
   "source": [
    "import os\n",
    "import sys\n",
    "import polars as pl\n",
    "import numpy as np\n",
    "\n",
    "parent_dir = os.path.abspath(os.path.join(os.getcwd(), \"../utils\"))\n",
    "sys.path.append(parent_dir)\n",
    "\n",
    "from data_preprocessing import DataProcesser\n",
    "dataProcesser = DataProcesser()\n",
    "\n",
    "pl.Config.set_tbl_cols(-1)"
   ]
  },
  {
   "cell_type": "markdown",
   "metadata": {},
   "source": [
    "The DataProcesser contains the imported dataframes as local variables, so that we don't have to reimport them for every processing"
   ]
  },
  {
   "cell_type": "code",
   "execution_count": 2,
   "metadata": {},
   "outputs": [
    {
     "name": "stdout",
     "output_type": "stream",
     "text": [
      "Articles shape:         (20738, 21)\n",
      "Document vectors shape: (20738, 21)\n",
      "Train Behaviours shape: (20738, 21)\n",
      "Test Behaviours shape:  (20738, 21)\n"
     ]
    }
   ],
   "source": [
    "print(\"Articles shape:        \", dataProcesser.articles_df.shape)\n",
    "print(\"Document vectors shape:\", dataProcesser.articles_df.shape)\n",
    "print(\"Train Behaviours shape:\", dataProcesser.articles_df.shape)\n",
    "print(\"Test Behaviours shape: \", dataProcesser.articles_df.shape)"
   ]
  },
  {
   "cell_type": "markdown",
   "metadata": {},
   "source": [
    "I will no go trough the processing done to each of the dataframes (with the Behaviours being combined into one)"
   ]
  },
  {
   "cell_type": "markdown",
   "metadata": {},
   "source": [
    "## Preprocessing"
   ]
  },
  {
   "cell_type": "markdown",
   "metadata": {},
   "source": [
    "### Articles DataFrame"
   ]
  },
  {
   "cell_type": "markdown",
   "metadata": {},
   "source": [
    "#### Exploration"
   ]
  },
  {
   "cell_type": "markdown",
   "metadata": {},
   "source": [
    "This DataFrame contains information about the different articles used in the dataframe"
   ]
  },
  {
   "cell_type": "code",
   "execution_count": 3,
   "metadata": {},
   "outputs": [
    {
     "data": {
      "text/html": [
       "<div><style>\n",
       ".dataframe > thead > tr,\n",
       ".dataframe > tbody > tr {\n",
       "  text-align: right;\n",
       "  white-space: pre-wrap;\n",
       "}\n",
       "</style>\n",
       "<small>shape: (1, 21)</small><table border=\"1\" class=\"dataframe\"><thead><tr><th>article_id</th><th>title</th><th>subtitle</th><th>last_modified_time</th><th>premium</th><th>body</th><th>published_time</th><th>image_ids</th><th>article_type</th><th>url</th><th>ner_clusters</th><th>entity_groups</th><th>topics</th><th>category</th><th>subcategory</th><th>category_str</th><th>total_inviews</th><th>total_pageviews</th><th>total_read_time</th><th>sentiment_score</th><th>sentiment_label</th></tr><tr><td>i32</td><td>str</td><td>str</td><td>datetime[μs]</td><td>bool</td><td>str</td><td>datetime[μs]</td><td>list[i64]</td><td>str</td><td>str</td><td>list[str]</td><td>list[str]</td><td>list[str]</td><td>i16</td><td>list[i16]</td><td>str</td><td>i32</td><td>i32</td><td>f32</td><td>f32</td><td>str</td></tr></thead><tbody><tr><td>3001353</td><td>&quot;Natascha var ikke den første&quot;</td><td>&quot;Politiet frygter nu, at Natasc…</td><td>2023-06-29 06:20:33</td><td>false</td><td>&quot;Sagen om den østriske Natascha…</td><td>2006-08-31 08:06:45</td><td>[3150850]</td><td>&quot;article_default&quot;</td><td>&quot;https://ekstrabladet.dk/krimi/…</td><td>[]</td><td>[]</td><td>[&quot;Kriminalitet&quot;, &quot;Personfarlig kriminalitet&quot;]</td><td>140</td><td>[]</td><td>&quot;krimi&quot;</td><td>null</td><td>null</td><td>null</td><td>0.9955</td><td>&quot;Negative&quot;</td></tr></tbody></table></div>"
      ],
      "text/plain": [
       "shape: (1, 21)\n",
       "┌─────┬─────┬─────┬─────┬─────┬─────┬─────┬─────┬─────┬─────┬─────┬─────┬─────┬─────┬─────┬─────┬─────┬─────┬─────┬─────┬─────┐\n",
       "│ art ┆ tit ┆ sub ┆ las ┆ pre ┆ bod ┆ pub ┆ ima ┆ art ┆ url ┆ ner ┆ ent ┆ top ┆ cat ┆ sub ┆ cat ┆ tot ┆ tot ┆ tot ┆ sen ┆ sen │\n",
       "│ icl ┆ le  ┆ tit ┆ t_m ┆ miu ┆ y   ┆ lis ┆ ge_ ┆ icl ┆ --- ┆ _cl ┆ ity ┆ ics ┆ ego ┆ cat ┆ ego ┆ al_ ┆ al_ ┆ al_ ┆ tim ┆ tim │\n",
       "│ e_i ┆ --- ┆ le  ┆ odi ┆ m   ┆ --- ┆ hed ┆ ids ┆ e_t ┆ str ┆ ust ┆ _gr ┆ --- ┆ ry  ┆ ego ┆ ry_ ┆ inv ┆ pag ┆ rea ┆ ent ┆ ent │\n",
       "│ d   ┆ str ┆ --- ┆ fie ┆ --- ┆ str ┆ _ti ┆ --- ┆ ype ┆     ┆ ers ┆ oup ┆ lis ┆ --- ┆ ry  ┆ str ┆ iew ┆ evi ┆ d_t ┆ _sc ┆ _la │\n",
       "│ --- ┆     ┆ str ┆ d_t ┆ boo ┆     ┆ me  ┆ lis ┆ --- ┆     ┆ --- ┆ s   ┆ t[s ┆ i16 ┆ --- ┆ --- ┆ s   ┆ ews ┆ ime ┆ ore ┆ bel │\n",
       "│ i32 ┆     ┆     ┆ ime ┆ l   ┆     ┆ --- ┆ t[i ┆ str ┆     ┆ lis ┆ --- ┆ tr] ┆     ┆ lis ┆ str ┆ --- ┆ --- ┆ --- ┆ --- ┆ --- │\n",
       "│     ┆     ┆     ┆ --- ┆     ┆     ┆ dat ┆ 64] ┆     ┆     ┆ t[s ┆ lis ┆     ┆     ┆ t[i ┆     ┆ i32 ┆ i32 ┆ f32 ┆ f32 ┆ str │\n",
       "│     ┆     ┆     ┆ dat ┆     ┆     ┆ eti ┆     ┆     ┆     ┆ tr] ┆ t[s ┆     ┆     ┆ 16] ┆     ┆     ┆     ┆     ┆     ┆     │\n",
       "│     ┆     ┆     ┆ eti ┆     ┆     ┆ me[ ┆     ┆     ┆     ┆     ┆ tr] ┆     ┆     ┆     ┆     ┆     ┆     ┆     ┆     ┆     │\n",
       "│     ┆     ┆     ┆ me[ ┆     ┆     ┆ μs] ┆     ┆     ┆     ┆     ┆     ┆     ┆     ┆     ┆     ┆     ┆     ┆     ┆     ┆     │\n",
       "│     ┆     ┆     ┆ μs] ┆     ┆     ┆     ┆     ┆     ┆     ┆     ┆     ┆     ┆     ┆     ┆     ┆     ┆     ┆     ┆     ┆     │\n",
       "╞═════╪═════╪═════╪═════╪═════╪═════╪═════╪═════╪═════╪═════╪═════╪═════╪═════╪═════╪═════╪═════╪═════╪═════╪═════╪═════╪═════╡\n",
       "│ 300 ┆ Nat ┆ Pol ┆ 202 ┆ fal ┆ Sag ┆ 200 ┆ [31 ┆ art ┆ htt ┆ []  ┆ []  ┆ [\"K ┆ 140 ┆ []  ┆ kri ┆ nul ┆ nul ┆ nul ┆ 0.9 ┆ Neg │\n",
       "│ 135 ┆ asc ┆ iti ┆ 3-0 ┆ se  ┆ en  ┆ 6-0 ┆ 508 ┆ icl ┆ ps: ┆     ┆     ┆ rim ┆     ┆     ┆ mi  ┆ l   ┆ l   ┆ l   ┆ 955 ┆ ati │\n",
       "│ 3   ┆ ha  ┆ et  ┆ 6-2 ┆     ┆ om  ┆ 8-3 ┆ 50] ┆ e_d ┆ //e ┆     ┆     ┆ ina ┆     ┆     ┆     ┆     ┆     ┆     ┆     ┆ ve  │\n",
       "│     ┆ var ┆ fry ┆ 9   ┆     ┆ den ┆ 1   ┆     ┆ efa ┆ kst ┆     ┆     ┆ lit ┆     ┆     ┆     ┆     ┆     ┆     ┆     ┆     │\n",
       "│     ┆ ikk ┆ gte ┆ 06: ┆     ┆ øst ┆ 08: ┆     ┆ ult ┆ rab ┆     ┆     ┆ et\" ┆     ┆     ┆     ┆     ┆     ┆     ┆     ┆     │\n",
       "│     ┆ e   ┆ r   ┆ 20: ┆     ┆ ris ┆ 06: ┆     ┆     ┆ lad ┆     ┆     ┆ ,   ┆     ┆     ┆     ┆     ┆     ┆     ┆     ┆     │\n",
       "│     ┆ den ┆ nu, ┆ 33  ┆     ┆ ke  ┆ 45  ┆     ┆     ┆ et. ┆     ┆     ┆ \"Pe ┆     ┆     ┆     ┆     ┆     ┆     ┆     ┆     │\n",
       "│     ┆ før ┆ at  ┆     ┆     ┆ Nat ┆     ┆     ┆     ┆ dk/ ┆     ┆     ┆ rso ┆     ┆     ┆     ┆     ┆     ┆     ┆     ┆     │\n",
       "│     ┆ ste ┆ Nat ┆     ┆     ┆ asc ┆     ┆     ┆     ┆ kri ┆     ┆     ┆ nfa ┆     ┆     ┆     ┆     ┆     ┆     ┆     ┆     │\n",
       "│     ┆     ┆ asc ┆     ┆     ┆ ha… ┆     ┆     ┆     ┆ mi/ ┆     ┆     ┆ rli ┆     ┆     ┆     ┆     ┆     ┆     ┆     ┆     │\n",
       "│     ┆     ┆ …   ┆     ┆     ┆     ┆     ┆     ┆     ┆ …   ┆     ┆     ┆ g…  ┆     ┆     ┆     ┆     ┆     ┆     ┆     ┆     │\n",
       "└─────┴─────┴─────┴─────┴─────┴─────┴─────┴─────┴─────┴─────┴─────┴─────┴─────┴─────┴─────┴─────┴─────┴─────┴─────┴─────┴─────┘"
      ]
     },
     "execution_count": 3,
     "metadata": {},
     "output_type": "execute_result"
    }
   ],
   "source": [
    "dataProcesser.articles_df.head(1)"
   ]
  },
  {
   "cell_type": "markdown",
   "metadata": {},
   "source": [
    "By inspecting null values, we see that of 20738, are around half of inviews, pageviews and readtime rows are empty. Furthermore around 1900 image_ids (~10%) are missing."
   ]
  },
  {
   "cell_type": "code",
   "execution_count": 4,
   "metadata": {},
   "outputs": [
    {
     "name": "stdout",
     "output_type": "stream",
     "text": [
      "Dataframe Shape =  (20738, 21)\n"
     ]
    },
    {
     "data": {
      "text/html": [
       "<div><style>\n",
       ".dataframe > thead > tr,\n",
       ".dataframe > tbody > tr {\n",
       "  text-align: right;\n",
       "  white-space: pre-wrap;\n",
       "}\n",
       "</style>\n",
       "<small>shape: (1, 21)</small><table border=\"1\" class=\"dataframe\"><thead><tr><th>article_id</th><th>title</th><th>subtitle</th><th>last_modified_time</th><th>premium</th><th>body</th><th>published_time</th><th>image_ids</th><th>article_type</th><th>url</th><th>ner_clusters</th><th>entity_groups</th><th>topics</th><th>category</th><th>subcategory</th><th>category_str</th><th>total_inviews</th><th>total_pageviews</th><th>total_read_time</th><th>sentiment_score</th><th>sentiment_label</th></tr><tr><td>u32</td><td>u32</td><td>u32</td><td>u32</td><td>u32</td><td>u32</td><td>u32</td><td>u32</td><td>u32</td><td>u32</td><td>u32</td><td>u32</td><td>u32</td><td>u32</td><td>u32</td><td>u32</td><td>u32</td><td>u32</td><td>u32</td><td>u32</td><td>u32</td></tr></thead><tbody><tr><td>0</td><td>0</td><td>0</td><td>0</td><td>0</td><td>0</td><td>0</td><td>1878</td><td>0</td><td>0</td><td>0</td><td>0</td><td>0</td><td>0</td><td>0</td><td>0</td><td>10770</td><td>10882</td><td>10882</td><td>0</td><td>0</td></tr></tbody></table></div>"
      ],
      "text/plain": [
       "shape: (1, 21)\n",
       "┌─────┬─────┬─────┬─────┬─────┬─────┬─────┬─────┬─────┬─────┬─────┬─────┬─────┬─────┬─────┬─────┬─────┬─────┬─────┬─────┬─────┐\n",
       "│ art ┆ tit ┆ sub ┆ las ┆ pre ┆ bod ┆ pub ┆ ima ┆ art ┆ url ┆ ner ┆ ent ┆ top ┆ cat ┆ sub ┆ cat ┆ tot ┆ tot ┆ tot ┆ sen ┆ sen │\n",
       "│ icl ┆ le  ┆ tit ┆ t_m ┆ miu ┆ y   ┆ lis ┆ ge_ ┆ icl ┆ --- ┆ _cl ┆ ity ┆ ics ┆ ego ┆ cat ┆ ego ┆ al_ ┆ al_ ┆ al_ ┆ tim ┆ tim │\n",
       "│ e_i ┆ --- ┆ le  ┆ odi ┆ m   ┆ --- ┆ hed ┆ ids ┆ e_t ┆ u32 ┆ ust ┆ _gr ┆ --- ┆ ry  ┆ ego ┆ ry_ ┆ inv ┆ pag ┆ rea ┆ ent ┆ ent │\n",
       "│ d   ┆ u32 ┆ --- ┆ fie ┆ --- ┆ u32 ┆ _ti ┆ --- ┆ ype ┆     ┆ ers ┆ oup ┆ u32 ┆ --- ┆ ry  ┆ str ┆ iew ┆ evi ┆ d_t ┆ _sc ┆ _la │\n",
       "│ --- ┆     ┆ u32 ┆ d_t ┆ u32 ┆     ┆ me  ┆ u32 ┆ --- ┆     ┆ --- ┆ s   ┆     ┆ u32 ┆ --- ┆ --- ┆ s   ┆ ews ┆ ime ┆ ore ┆ bel │\n",
       "│ u32 ┆     ┆     ┆ ime ┆     ┆     ┆ --- ┆     ┆ u32 ┆     ┆ u32 ┆ --- ┆     ┆     ┆ u32 ┆ u32 ┆ --- ┆ --- ┆ --- ┆ --- ┆ --- │\n",
       "│     ┆     ┆     ┆ --- ┆     ┆     ┆ u32 ┆     ┆     ┆     ┆     ┆ u32 ┆     ┆     ┆     ┆     ┆ u32 ┆ u32 ┆ u32 ┆ u32 ┆ u32 │\n",
       "│     ┆     ┆     ┆ u32 ┆     ┆     ┆     ┆     ┆     ┆     ┆     ┆     ┆     ┆     ┆     ┆     ┆     ┆     ┆     ┆     ┆     │\n",
       "╞═════╪═════╪═════╪═════╪═════╪═════╪═════╪═════╪═════╪═════╪═════╪═════╪═════╪═════╪═════╪═════╪═════╪═════╪═════╪═════╪═════╡\n",
       "│ 0   ┆ 0   ┆ 0   ┆ 0   ┆ 0   ┆ 0   ┆ 0   ┆ 187 ┆ 0   ┆ 0   ┆ 0   ┆ 0   ┆ 0   ┆ 0   ┆ 0   ┆ 0   ┆ 107 ┆ 108 ┆ 108 ┆ 0   ┆ 0   │\n",
       "│     ┆     ┆     ┆     ┆     ┆     ┆     ┆ 8   ┆     ┆     ┆     ┆     ┆     ┆     ┆     ┆     ┆ 70  ┆ 82  ┆ 82  ┆     ┆     │\n",
       "└─────┴─────┴─────┴─────┴─────┴─────┴─────┴─────┴─────┴─────┴─────┴─────┴─────┴─────┴─────┴─────┴─────┴─────┴─────┴─────┴─────┘"
      ]
     },
     "execution_count": 4,
     "metadata": {},
     "output_type": "execute_result"
    }
   ],
   "source": [
    "print(\"Dataframe Shape = \", dataProcesser.articles_df.shape)\n",
    "dataProcesser.articles_df.null_count()"
   ]
  },
  {
   "cell_type": "markdown",
   "metadata": {},
   "source": [
    "#### Summary"
   ]
  },
  {
   "cell_type": "markdown",
   "metadata": {},
   "source": [
    "**Filtering:** We can remove the user interactions from the DataFrame, as these values can be found by using the Behaviours table. Furthermore, the image_id's shouldn't be important, so these can be removed too. \n",
    "\n",
    "**Sorting:** We can sort by published_time if we want to. But this isn't required\n",
    "\n",
    "**Summary:** Filter out [\"total_inviews\", \"total_pageviews\", \"total_read_time\", \"image_ids\"], sort by \"published_time\""
   ]
  },
  {
   "cell_type": "code",
   "execution_count": 5,
   "metadata": {},
   "outputs": [
    {
     "data": {
      "text/html": [
       "<div><style>\n",
       ".dataframe > thead > tr,\n",
       ".dataframe > tbody > tr {\n",
       "  text-align: right;\n",
       "  white-space: pre-wrap;\n",
       "}\n",
       "</style>\n",
       "<small>shape: (20_738, 17)</small><table border=\"1\" class=\"dataframe\"><thead><tr><th>article_id</th><th>title</th><th>subtitle</th><th>last_modified_time</th><th>premium</th><th>body</th><th>published_time</th><th>article_type</th><th>url</th><th>ner_clusters</th><th>entity_groups</th><th>topics</th><th>category</th><th>subcategory</th><th>category_str</th><th>sentiment_score</th><th>sentiment_label</th></tr><tr><td>i32</td><td>str</td><td>str</td><td>datetime[μs]</td><td>bool</td><td>str</td><td>datetime[μs]</td><td>str</td><td>str</td><td>list[str]</td><td>list[str]</td><td>list[str]</td><td>i16</td><td>list[i16]</td><td>str</td><td>f32</td><td>str</td></tr></thead><tbody><tr><td>9800521</td><td>&quot;Panser: - Jeg gik i stykker&quot;</td><td>&quot;Han blev kaldt &#x27;Knogleknuseren…</td><td>2023-07-12 08:28:14</td><td>true</td><td>&quot;Jo farligere opgaverne var, jo…</td><td>2023-07-11 05:05:36</td><td>&quot;article_default&quot;</td><td>&quot;https://ekstrabladet.dk/nyhede…</td><td>[&quot;Bageriet&quot;, &quot;Ballerup&quot;, … &quot;Thomas&quot;]</td><td>[&quot;LOC&quot;, &quot;LOC&quot;, … &quot;PER&quot;]</td><td>[&quot;Konflikt og krig&quot;, &quot;Terror&quot;]</td><td>118</td><td>[133]</td><td>&quot;nyheder&quot;</td><td>0.9934</td><td>&quot;Negative&quot;</td></tr><tr><td>9803607</td><td>&quot;Aktion mod svindlere: Seks per…</td><td>&quot;Flere kvinder er ifølge politi…</td><td>2023-06-29 06:49:26</td><td>false</td><td>&quot;Mindst otte personer er blevet…</td><td>2023-06-08 06:54:53</td><td>&quot;article_default&quot;</td><td>&quot;https://ekstrabladet.dk/krimi/…</td><td>[&quot;Adam&quot;, &quot;Bente&quot;, … &quot;Twitter&quot;]</td><td>[&quot;PER&quot;, &quot;PER&quot;, … &quot;ORG&quot;]</td><td>[&quot;Kriminalitet&quot;, &quot;Bedrageri&quot;]</td><td>140</td><td>[]</td><td>&quot;krimi&quot;</td><td>0.9948</td><td>&quot;Negative&quot;</td></tr><tr><td>9803525</td><td>&quot;Dansk skuespiller: - Jeg nægte…</td><td>&quot;Julie R. Ølgaard fik akut kejs…</td><td>2023-06-29 06:49:26</td><td>false</td><td>&quot;Mens hun lå søvnløs, lød kakof…</td><td>2023-06-08 06:45:46</td><td>&quot;article_default&quot;</td><td>&quot;https://ekstrabladet.dk/underh…</td><td>[&quot;Cooper&quot;, &quot;Englemageren&quot;, … &quot;Svangerskabsforgiftning&quot;]</td><td>[&quot;PER&quot;, &quot;PROD&quot;, … &quot;MISC&quot;]</td><td>[&quot;Kendt&quot;, &quot;Livsstil&quot;, … &quot;Sygdom og behandling&quot;]</td><td>414</td><td>[425]</td><td>&quot;underholdning&quot;</td><td>0.7737</td><td>&quot;Negative&quot;</td></tr><tr><td>9803178</td><td>&quot;Mia-sagen: &#x27;Jeg blev smigret&#x27;&quot;</td><td>&quot;Torsdag fortsætter 37-årigs fo…</td><td>2023-06-29 06:49:26</td><td>false</td><td>&quot;&quot;</td><td>2023-06-08 06:38:24</td><td>&quot;article_scribblelive&quot;</td><td>&quot;https://ekstrabladet.dk/krimi/…</td><td>[&quot;Skadhauge&quot;]</td><td>[&quot;PER&quot;]</td><td>[&quot;Kriminalitet&quot;]</td><td>140</td><td>[]</td><td>&quot;krimi&quot;</td><td>0.9346</td><td>&quot;Negative&quot;</td></tr><tr><td>9803560</td><td>&quot;Så slemt er det: 14.000 huse e…</td><td>&quot;Tusindvis af huse står under v…</td><td>2023-06-29 06:49:26</td><td>false</td><td>&quot;Et område på omkring 600 kvadr…</td><td>2023-06-08 06:25:42</td><td>&quot;article_default&quot;</td><td>&quot;https://ekstrabladet.dk/nyhede…</td><td>[&quot;Dnepr&quot;, &quot;Kherson&quot;, … &quot;Ukraine&quot;]</td><td>[&quot;LOC&quot;, &quot;LOC&quot;, … &quot;LOC&quot;]</td><td>[&quot;International politik&quot;, &quot;Katastrofe&quot;, … &quot;Politik&quot;]</td><td>118</td><td>[]</td><td>&quot;nyheder&quot;</td><td>0.9927</td><td>&quot;Negative&quot;</td></tr><tr><td>&hellip;</td><td>&hellip;</td><td>&hellip;</td><td>&hellip;</td><td>&hellip;</td><td>&hellip;</td><td>&hellip;</td><td>&hellip;</td><td>&hellip;</td><td>&hellip;</td><td>&hellip;</td><td>&hellip;</td><td>&hellip;</td><td>&hellip;</td><td>&hellip;</td><td>&hellip;</td><td>&hellip;</td></tr><tr><td>4790718</td><td>&quot;FCK-fan fik hovedet knust&quot;</td><td>&quot;Stak hovedet op af vinduet i d…</td><td>2023-06-29 07:10:50</td><td>false</td><td>&quot;For 41 fodboldfans fra FC Købe…</td><td>2000-08-14 04:05:00</td><td>&quot;article_default&quot;</td><td>&quot;https://ekstrabladet.dk/sport/…</td><td>[&quot;Greve&quot;]</td><td>[&quot;LOC&quot;]</td><td>[&quot;Transportmiddel&quot;, &quot;Katastrofe&quot;, … &quot;Større transportmiddel&quot;]</td><td>142</td><td>[196, 199]</td><td>&quot;sport&quot;</td><td>0.9955</td><td>&quot;Negative&quot;</td></tr><tr><td>4389859</td><td>&quot;Lær at tale sort&quot;</td><td>&quot;Imponer vennerne eller undgå m…</td><td>2023-06-29 06:55:30</td><td>false</td><td>&quot;SORT SNAK\n",
       "Mens mange efterhånd…</td><td>2000-07-18 09:30:00</td><td>&quot;article_default&quot;</td><td>&quot;https://ekstrabladet.dk/nyhede…</td><td>[]</td><td>[]</td><td>[&quot;Erhverv&quot;, &quot;Privat virksomhed&quot;, … &quot;Forbrugerelektronik&quot;]</td><td>118</td><td>[133]</td><td>&quot;nyheder&quot;</td><td>0.9206</td><td>&quot;Neutral&quot;</td></tr><tr><td>4794746</td><td>&quot;Træneren: Jeg skjuler ikke nog…</td><td>&quot;&quot;</td><td>2023-06-29 07:11:07</td><td>false</td><td>&quot;Galoptræner Brian Wilson, Ordr…</td><td>2000-06-22 12:45:00</td><td>&quot;article_default&quot;</td><td>&quot;https://ekstrabladet.dk/nyhede…</td><td>[]</td><td>[]</td><td>[&quot;Sport&quot;, &quot;Dyr&quot;]</td><td>118</td><td>[133]</td><td>&quot;nyheder&quot;</td><td>0.6719</td><td>&quot;Neutral&quot;</td></tr><tr><td>4812866</td><td>&quot;Suzuki Waggon R&quot;</td><td>&quot;Suzuki Waggon R - testet af Ek…</td><td>2023-06-29 07:12:22</td><td>false</td><td>&quot;Suzukis lille Wagon R på vej m…</td><td>1999-11-09 23:35:00</td><td>&quot;article_default&quot;</td><td>&quot;https://ekstrabladet.dk/biler/…</td><td>[]</td><td>[]</td><td>[&quot;Transportmiddel&quot;, &quot;Bil&quot;]</td><td>529</td><td>[530]</td><td>&quot;biler&quot;</td><td>0.6152</td><td>&quot;Neutral&quot;</td></tr><tr><td>3245287</td><td>&quot;Blå bog: Klaus Berggreen&quot;</td><td>&quot;&quot;</td><td>2023-06-29 06:24:55</td><td>false</td><td>&quot;Navn: Klaus Berggreen.\n",
       "Født: 3…</td><td>1998-12-27 12:05:00</td><td>&quot;article_default&quot;</td><td>&quot;https://ekstrabladet.dk/nyhede…</td><td>[]</td><td>[]</td><td>[&quot;Erhverv&quot;, &quot;Kendt&quot;, … &quot;Ansættelsesforhold&quot;]</td><td>118</td><td>[133]</td><td>&quot;nyheder&quot;</td><td>0.8101</td><td>&quot;Neutral&quot;</td></tr></tbody></table></div>"
      ],
      "text/plain": [
       "shape: (20_738, 17)\n",
       "┌─────┬─────┬─────┬─────┬─────┬─────┬─────┬─────┬─────┬─────┬─────┬─────┬─────┬─────┬─────┬─────┬─────┐\n",
       "│ art ┆ tit ┆ sub ┆ las ┆ pre ┆ bod ┆ pub ┆ art ┆ url ┆ ner ┆ ent ┆ top ┆ cat ┆ sub ┆ cat ┆ sen ┆ sen │\n",
       "│ icl ┆ le  ┆ tit ┆ t_m ┆ miu ┆ y   ┆ lis ┆ icl ┆ --- ┆ _cl ┆ ity ┆ ics ┆ ego ┆ cat ┆ ego ┆ tim ┆ tim │\n",
       "│ e_i ┆ --- ┆ le  ┆ odi ┆ m   ┆ --- ┆ hed ┆ e_t ┆ str ┆ ust ┆ _gr ┆ --- ┆ ry  ┆ ego ┆ ry_ ┆ ent ┆ ent │\n",
       "│ d   ┆ str ┆ --- ┆ fie ┆ --- ┆ str ┆ _ti ┆ ype ┆     ┆ ers ┆ oup ┆ lis ┆ --- ┆ ry  ┆ str ┆ _sc ┆ _la │\n",
       "│ --- ┆     ┆ str ┆ d_t ┆ boo ┆     ┆ me  ┆ --- ┆     ┆ --- ┆ s   ┆ t[s ┆ i16 ┆ --- ┆ --- ┆ ore ┆ bel │\n",
       "│ i32 ┆     ┆     ┆ ime ┆ l   ┆     ┆ --- ┆ str ┆     ┆ lis ┆ --- ┆ tr] ┆     ┆ lis ┆ str ┆ --- ┆ --- │\n",
       "│     ┆     ┆     ┆ --- ┆     ┆     ┆ dat ┆     ┆     ┆ t[s ┆ lis ┆     ┆     ┆ t[i ┆     ┆ f32 ┆ str │\n",
       "│     ┆     ┆     ┆ dat ┆     ┆     ┆ eti ┆     ┆     ┆ tr] ┆ t[s ┆     ┆     ┆ 16] ┆     ┆     ┆     │\n",
       "│     ┆     ┆     ┆ eti ┆     ┆     ┆ me[ ┆     ┆     ┆     ┆ tr] ┆     ┆     ┆     ┆     ┆     ┆     │\n",
       "│     ┆     ┆     ┆ me[ ┆     ┆     ┆ μs] ┆     ┆     ┆     ┆     ┆     ┆     ┆     ┆     ┆     ┆     │\n",
       "│     ┆     ┆     ┆ μs] ┆     ┆     ┆     ┆     ┆     ┆     ┆     ┆     ┆     ┆     ┆     ┆     ┆     │\n",
       "╞═════╪═════╪═════╪═════╪═════╪═════╪═════╪═════╪═════╪═════╪═════╪═════╪═════╪═════╪═════╪═════╪═════╡\n",
       "│ 980 ┆ Pan ┆ Han ┆ 202 ┆ tru ┆ Jo  ┆ 202 ┆ art ┆ htt ┆ [\"B ┆ [\"L ┆ [\"K ┆ 118 ┆ [13 ┆ nyh ┆ 0.9 ┆ Neg │\n",
       "│ 052 ┆ ser ┆ ble ┆ 3-0 ┆ e   ┆ far ┆ 3-0 ┆ icl ┆ ps: ┆ age ┆ OC\" ┆ onf ┆     ┆ 3]  ┆ ede ┆ 934 ┆ ati │\n",
       "│ 1   ┆ : - ┆ v   ┆ 7-1 ┆     ┆ lig ┆ 7-1 ┆ e_d ┆ //e ┆ rie ┆ ,   ┆ lik ┆     ┆     ┆ r   ┆     ┆ ve  │\n",
       "│     ┆ Jeg ┆ kal ┆ 2   ┆     ┆ ere ┆ 1   ┆ efa ┆ kst ┆ t\", ┆ \"LO ┆ t   ┆     ┆     ┆     ┆     ┆     │\n",
       "│     ┆ gik ┆ dt  ┆ 08: ┆     ┆ opg ┆ 05: ┆ ult ┆ rab ┆ \"Ba ┆ C\", ┆ og  ┆     ┆     ┆     ┆     ┆     │\n",
       "│     ┆ i   ┆ 'Kn ┆ 28: ┆     ┆ ave ┆ 05: ┆     ┆ lad ┆ lle ┆ …   ┆ kri ┆     ┆     ┆     ┆     ┆     │\n",
       "│     ┆ sty ┆ ogl ┆ 14  ┆     ┆ rne ┆ 36  ┆     ┆ et. ┆ rup ┆ \"PE ┆ g\", ┆     ┆     ┆     ┆     ┆     │\n",
       "│     ┆ kke ┆ ekn ┆     ┆     ┆ var ┆     ┆     ┆ dk/ ┆ \",  ┆ R\"] ┆ \"Te ┆     ┆     ┆     ┆     ┆     │\n",
       "│     ┆ r   ┆ use ┆     ┆     ┆ ,   ┆     ┆     ┆ nyh ┆ …   ┆     ┆ rro ┆     ┆     ┆     ┆     ┆     │\n",
       "│     ┆     ┆ ren ┆     ┆     ┆ jo… ┆     ┆     ┆ ede ┆ \"Th ┆     ┆ r\"] ┆     ┆     ┆     ┆     ┆     │\n",
       "│     ┆     ┆ …   ┆     ┆     ┆     ┆     ┆     ┆ …   ┆ …   ┆     ┆     ┆     ┆     ┆     ┆     ┆     │\n",
       "│ 980 ┆ Akt ┆ Fle ┆ 202 ┆ fal ┆ Min ┆ 202 ┆ art ┆ htt ┆ [\"A ┆ [\"P ┆ [\"K ┆ 140 ┆ []  ┆ kri ┆ 0.9 ┆ Neg │\n",
       "│ 360 ┆ ion ┆ re  ┆ 3-0 ┆ se  ┆ dst ┆ 3-0 ┆ icl ┆ ps: ┆ dam ┆ ER\" ┆ rim ┆     ┆     ┆ mi  ┆ 948 ┆ ati │\n",
       "│ 7   ┆ mod ┆ kvi ┆ 6-2 ┆     ┆ ott ┆ 6-0 ┆ e_d ┆ //e ┆ \",  ┆ ,   ┆ ina ┆     ┆     ┆     ┆     ┆ ve  │\n",
       "│     ┆ svi ┆ nde ┆ 9   ┆     ┆ e   ┆ 8   ┆ efa ┆ kst ┆ \"Be ┆ \"PE ┆ lit ┆     ┆     ┆     ┆     ┆     │\n",
       "│     ┆ ndl ┆ r   ┆ 06: ┆     ┆ per ┆ 06: ┆ ult ┆ rab ┆ nte ┆ R\", ┆ et\" ┆     ┆     ┆     ┆     ┆     │\n",
       "│     ┆ ere ┆ er  ┆ 49: ┆     ┆ son ┆ 54: ┆     ┆ lad ┆ \",  ┆ …   ┆ ,   ┆     ┆     ┆     ┆     ┆     │\n",
       "│     ┆ :   ┆ ifø ┆ 26  ┆     ┆ er  ┆ 53  ┆     ┆ et. ┆ …   ┆ \"OR ┆ \"Be ┆     ┆     ┆     ┆     ┆     │\n",
       "│     ┆ Sek ┆ lge ┆     ┆     ┆ er  ┆     ┆     ┆ dk/ ┆ \"Tw ┆ G\"] ┆ dra ┆     ┆     ┆     ┆     ┆     │\n",
       "│     ┆ s   ┆ pol ┆     ┆     ┆ ble ┆     ┆     ┆ kri ┆ itt ┆     ┆ ger ┆     ┆     ┆     ┆     ┆     │\n",
       "│     ┆ per ┆ iti ┆     ┆     ┆ vet ┆     ┆     ┆ mi/ ┆ er\" ┆     ┆ i\"] ┆     ┆     ┆     ┆     ┆     │\n",
       "│     ┆ …   ┆ …   ┆     ┆     ┆ …   ┆     ┆     ┆ …   ┆ ]   ┆     ┆     ┆     ┆     ┆     ┆     ┆     │\n",
       "│ 980 ┆ Dan ┆ Jul ┆ 202 ┆ fal ┆ Men ┆ 202 ┆ art ┆ htt ┆ [\"C ┆ [\"P ┆ [\"K ┆ 414 ┆ [42 ┆ und ┆ 0.7 ┆ Neg │\n",
       "│ 352 ┆ sk  ┆ ie  ┆ 3-0 ┆ se  ┆ s   ┆ 3-0 ┆ icl ┆ ps: ┆ oop ┆ ER\" ┆ end ┆     ┆ 5]  ┆ erh ┆ 737 ┆ ati │\n",
       "│ 5   ┆ sku ┆ R.  ┆ 6-2 ┆     ┆ hun ┆ 6-0 ┆ e_d ┆ //e ┆ er\" ┆ ,   ┆ t\", ┆     ┆     ┆ old ┆     ┆ ve  │\n",
       "│     ┆ esp ┆ Ølg ┆ 9   ┆     ┆ lå  ┆ 8   ┆ efa ┆ kst ┆ ,   ┆ \"PR ┆ \"Li ┆     ┆     ┆ nin ┆     ┆     │\n",
       "│     ┆ ill ┆ aar ┆ 06: ┆     ┆ søv ┆ 06: ┆ ult ┆ rab ┆ \"En ┆ OD\" ┆ vss ┆     ┆     ┆ g   ┆     ┆     │\n",
       "│     ┆ er: ┆ d   ┆ 49: ┆     ┆ nlø ┆ 45: ┆     ┆ lad ┆ gle ┆ , … ┆ til ┆     ┆     ┆     ┆     ┆     │\n",
       "│     ┆ -   ┆ fik ┆ 26  ┆     ┆ s,  ┆ 46  ┆     ┆ et. ┆ mag ┆ \"MI ┆ \",  ┆     ┆     ┆     ┆     ┆     │\n",
       "│     ┆ Jeg ┆ aku ┆     ┆     ┆ lød ┆     ┆     ┆ dk/ ┆ ere ┆ SC\" ┆ …   ┆     ┆     ┆     ┆     ┆     │\n",
       "│     ┆ næg ┆ t   ┆     ┆     ┆ kak ┆     ┆     ┆ und ┆ n\", ┆ ]   ┆ \"Sy ┆     ┆     ┆     ┆     ┆     │\n",
       "│     ┆ te… ┆ kej ┆     ┆     ┆ of… ┆     ┆     ┆ erh ┆ …   ┆     ┆ gdo ┆     ┆     ┆     ┆     ┆     │\n",
       "│     ┆     ┆ s…  ┆     ┆     ┆     ┆     ┆     ┆ …   ┆ \"…  ┆     ┆ …   ┆     ┆     ┆     ┆     ┆     │\n",
       "│ 980 ┆ Mia ┆ Tor ┆ 202 ┆ fal ┆     ┆ 202 ┆ art ┆ htt ┆ [\"S ┆ [\"P ┆ [\"K ┆ 140 ┆ []  ┆ kri ┆ 0.9 ┆ Neg │\n",
       "│ 317 ┆ -sa ┆ sda ┆ 3-0 ┆ se  ┆     ┆ 3-0 ┆ icl ┆ ps: ┆ kad ┆ ER\" ┆ rim ┆     ┆     ┆ mi  ┆ 346 ┆ ati │\n",
       "│ 8   ┆ gen ┆ g   ┆ 6-2 ┆     ┆     ┆ 6-0 ┆ e_s ┆ //e ┆ hau ┆ ]   ┆ ina ┆     ┆     ┆     ┆     ┆ ve  │\n",
       "│     ┆ :   ┆ for ┆ 9   ┆     ┆     ┆ 8   ┆ cri ┆ kst ┆ ge\" ┆     ┆ lit ┆     ┆     ┆     ┆     ┆     │\n",
       "│     ┆ 'Je ┆ tsæ ┆ 06: ┆     ┆     ┆ 06: ┆ bbl ┆ rab ┆ ]   ┆     ┆ et\" ┆     ┆     ┆     ┆     ┆     │\n",
       "│     ┆ g   ┆ tte ┆ 49: ┆     ┆     ┆ 38: ┆ eli ┆ lad ┆     ┆     ┆ ]   ┆     ┆     ┆     ┆     ┆     │\n",
       "│     ┆ ble ┆ r   ┆ 26  ┆     ┆     ┆ 24  ┆ ve  ┆ et. ┆     ┆     ┆     ┆     ┆     ┆     ┆     ┆     │\n",
       "│     ┆ v   ┆ 37- ┆     ┆     ┆     ┆     ┆     ┆ dk/ ┆     ┆     ┆     ┆     ┆     ┆     ┆     ┆     │\n",
       "│     ┆ smi ┆ åri ┆     ┆     ┆     ┆     ┆     ┆ kri ┆     ┆     ┆     ┆     ┆     ┆     ┆     ┆     │\n",
       "│     ┆ gre ┆ gs  ┆     ┆     ┆     ┆     ┆     ┆ mi/ ┆     ┆     ┆     ┆     ┆     ┆     ┆     ┆     │\n",
       "│     ┆ t'  ┆ fo… ┆     ┆     ┆     ┆     ┆     ┆ …   ┆     ┆     ┆     ┆     ┆     ┆     ┆     ┆     │\n",
       "│ 980 ┆ Så  ┆ Tus ┆ 202 ┆ fal ┆ Et  ┆ 202 ┆ art ┆ htt ┆ [\"D ┆ [\"L ┆ [\"I ┆ 118 ┆ []  ┆ nyh ┆ 0.9 ┆ Neg │\n",
       "│ 356 ┆ sle ┆ ind ┆ 3-0 ┆ se  ┆ omr ┆ 3-0 ┆ icl ┆ ps: ┆ nep ┆ OC\" ┆ nte ┆     ┆     ┆ ede ┆ 927 ┆ ati │\n",
       "│ 0   ┆ mt  ┆ vis ┆ 6-2 ┆     ┆ åde ┆ 6-0 ┆ e_d ┆ //e ┆ r\", ┆ ,   ┆ rna ┆     ┆     ┆ r   ┆     ┆ ve  │\n",
       "│     ┆ er  ┆ af  ┆ 9   ┆     ┆ på  ┆ 8   ┆ efa ┆ kst ┆ \"Kh ┆ \"LO ┆ tio ┆     ┆     ┆     ┆     ┆     │\n",
       "│     ┆ det ┆ hus ┆ 06: ┆     ┆ omk ┆ 06: ┆ ult ┆ rab ┆ ers ┆ C\", ┆ nal ┆     ┆     ┆     ┆     ┆     │\n",
       "│     ┆ :   ┆ e   ┆ 49: ┆     ┆ rin ┆ 25: ┆     ┆ lad ┆ on\" ┆ …   ┆ pol ┆     ┆     ┆     ┆     ┆     │\n",
       "│     ┆ 14. ┆ stå ┆ 26  ┆     ┆ g   ┆ 42  ┆     ┆ et. ┆ , … ┆ \"LO ┆ iti ┆     ┆     ┆     ┆     ┆     │\n",
       "│     ┆ 000 ┆ r   ┆     ┆     ┆ 600 ┆     ┆     ┆ dk/ ┆ \"Uk ┆ C\"] ┆ k\", ┆     ┆     ┆     ┆     ┆     │\n",
       "│     ┆ hus ┆ und ┆     ┆     ┆ kva ┆     ┆     ┆ nyh ┆ rai ┆     ┆ \"Ka ┆     ┆     ┆     ┆     ┆     │\n",
       "│     ┆ e   ┆ er  ┆     ┆     ┆ dr… ┆     ┆     ┆ ede ┆ n…  ┆     ┆ t…  ┆     ┆     ┆     ┆     ┆     │\n",
       "│     ┆ e…  ┆ v…  ┆     ┆     ┆     ┆     ┆     ┆ …   ┆     ┆     ┆     ┆     ┆     ┆     ┆     ┆     │\n",
       "│ …   ┆ …   ┆ …   ┆ …   ┆ …   ┆ …   ┆ …   ┆ …   ┆ …   ┆ …   ┆ …   ┆ …   ┆ …   ┆ …   ┆ …   ┆ …   ┆ …   │\n",
       "│ 479 ┆ FCK ┆ Sta ┆ 202 ┆ fal ┆ For ┆ 200 ┆ art ┆ htt ┆ [\"G ┆ [\"L ┆ [\"T ┆ 142 ┆ [19 ┆ spo ┆ 0.9 ┆ Neg │\n",
       "│ 071 ┆ -fa ┆ k   ┆ 3-0 ┆ se  ┆ 41  ┆ 0-0 ┆ icl ┆ ps: ┆ rev ┆ OC\" ┆ ran ┆     ┆ 6,  ┆ rt  ┆ 955 ┆ ati │\n",
       "│ 8   ┆ n   ┆ hov ┆ 6-2 ┆     ┆ fod ┆ 8-1 ┆ e_d ┆ //e ┆ e\"] ┆ ]   ┆ spo ┆     ┆ 199 ┆     ┆     ┆ ve  │\n",
       "│     ┆ fik ┆ ede ┆ 9   ┆     ┆ bol ┆ 4   ┆ efa ┆ kst ┆     ┆     ┆ rtm ┆     ┆ ]   ┆     ┆     ┆     │\n",
       "│     ┆ hov ┆ t   ┆ 07: ┆     ┆ dfa ┆ 04: ┆ ult ┆ rab ┆     ┆     ┆ idd ┆     ┆     ┆     ┆     ┆     │\n",
       "│     ┆ ede ┆ op  ┆ 10: ┆     ┆ ns  ┆ 05: ┆     ┆ lad ┆     ┆     ┆ el\" ┆     ┆     ┆     ┆     ┆     │\n",
       "│     ┆ t   ┆ af  ┆ 50  ┆     ┆ fra ┆ 00  ┆     ┆ et. ┆     ┆     ┆ ,   ┆     ┆     ┆     ┆     ┆     │\n",
       "│     ┆ knu ┆ vin ┆     ┆     ┆ FC  ┆     ┆     ┆ dk/ ┆     ┆     ┆ \"Ka ┆     ┆     ┆     ┆     ┆     │\n",
       "│     ┆ st  ┆ due ┆     ┆     ┆ Køb ┆     ┆     ┆ spo ┆     ┆     ┆ tas ┆     ┆     ┆     ┆     ┆     │\n",
       "│     ┆     ┆ t i ┆     ┆     ┆ e…  ┆     ┆     ┆ rt/ ┆     ┆     ┆ tro ┆     ┆     ┆     ┆     ┆     │\n",
       "│     ┆     ┆ d…  ┆     ┆     ┆     ┆     ┆     ┆ …   ┆     ┆     ┆ f…  ┆     ┆     ┆     ┆     ┆     │\n",
       "│ 438 ┆ Lær ┆ Imp ┆ 202 ┆ fal ┆ SOR ┆ 200 ┆ art ┆ htt ┆ []  ┆ []  ┆ [\"E ┆ 118 ┆ [13 ┆ nyh ┆ 0.9 ┆ Neu │\n",
       "│ 985 ┆ at  ┆ one ┆ 3-0 ┆ se  ┆ T   ┆ 0-0 ┆ icl ┆ ps: ┆     ┆     ┆ rhv ┆     ┆ 3]  ┆ ede ┆ 206 ┆ tra │\n",
       "│ 9   ┆ tal ┆ r   ┆ 6-2 ┆     ┆ SNA ┆ 7-1 ┆ e_d ┆ //e ┆     ┆     ┆ erv ┆     ┆     ┆ r   ┆     ┆ l   │\n",
       "│     ┆ e   ┆ ven ┆ 9   ┆     ┆ K   ┆ 8   ┆ efa ┆ kst ┆     ┆     ┆ \",  ┆     ┆     ┆     ┆     ┆     │\n",
       "│     ┆ sor ┆ ner ┆ 06: ┆     ┆ Men ┆ 09: ┆ ult ┆ rab ┆     ┆     ┆ \"Pr ┆     ┆     ┆     ┆     ┆     │\n",
       "│     ┆ t   ┆ ne  ┆ 55: ┆     ┆ s   ┆ 30: ┆     ┆ lad ┆     ┆     ┆ iva ┆     ┆     ┆     ┆     ┆     │\n",
       "│     ┆     ┆ ell ┆ 30  ┆     ┆ man ┆ 00  ┆     ┆ et. ┆     ┆     ┆ t   ┆     ┆     ┆     ┆     ┆     │\n",
       "│     ┆     ┆ er  ┆     ┆     ┆ ge  ┆     ┆     ┆ dk/ ┆     ┆     ┆ vir ┆     ┆     ┆     ┆     ┆     │\n",
       "│     ┆     ┆ und ┆     ┆     ┆ eft ┆     ┆     ┆ nyh ┆     ┆     ┆ kso ┆     ┆     ┆     ┆     ┆     │\n",
       "│     ┆     ┆ gå  ┆     ┆     ┆ erh ┆     ┆     ┆ ede ┆     ┆     ┆ mhe ┆     ┆     ┆     ┆     ┆     │\n",
       "│     ┆     ┆ m…  ┆     ┆     ┆ ånd ┆     ┆     ┆ …   ┆     ┆     ┆ d…  ┆     ┆     ┆     ┆     ┆     │\n",
       "│     ┆     ┆     ┆     ┆     ┆ …   ┆     ┆     ┆     ┆     ┆     ┆     ┆     ┆     ┆     ┆     ┆     │\n",
       "│ 479 ┆ Træ ┆     ┆ 202 ┆ fal ┆ Gal ┆ 200 ┆ art ┆ htt ┆ []  ┆ []  ┆ [\"S ┆ 118 ┆ [13 ┆ nyh ┆ 0.6 ┆ Neu │\n",
       "│ 474 ┆ ner ┆     ┆ 3-0 ┆ se  ┆ opt ┆ 0-0 ┆ icl ┆ ps: ┆     ┆     ┆ por ┆     ┆ 3]  ┆ ede ┆ 719 ┆ tra │\n",
       "│ 6   ┆ en: ┆     ┆ 6-2 ┆     ┆ ræn ┆ 6-2 ┆ e_d ┆ //e ┆     ┆     ┆ t\", ┆     ┆     ┆ r   ┆     ┆ l   │\n",
       "│     ┆ Jeg ┆     ┆ 9   ┆     ┆ er  ┆ 2   ┆ efa ┆ kst ┆     ┆     ┆ \"Dy ┆     ┆     ┆     ┆     ┆     │\n",
       "│     ┆ skj ┆     ┆ 07: ┆     ┆ Bri ┆ 12: ┆ ult ┆ rab ┆     ┆     ┆ r\"] ┆     ┆     ┆     ┆     ┆     │\n",
       "│     ┆ ule ┆     ┆ 11: ┆     ┆ an  ┆ 45: ┆     ┆ lad ┆     ┆     ┆     ┆     ┆     ┆     ┆     ┆     │\n",
       "│     ┆ r   ┆     ┆ 07  ┆     ┆ Wil ┆ 00  ┆     ┆ et. ┆     ┆     ┆     ┆     ┆     ┆     ┆     ┆     │\n",
       "│     ┆ ikk ┆     ┆     ┆     ┆ son ┆     ┆     ┆ dk/ ┆     ┆     ┆     ┆     ┆     ┆     ┆     ┆     │\n",
       "│     ┆ e   ┆     ┆     ┆     ┆ ,   ┆     ┆     ┆ nyh ┆     ┆     ┆     ┆     ┆     ┆     ┆     ┆     │\n",
       "│     ┆ nog ┆     ┆     ┆     ┆ Ord ┆     ┆     ┆ ede ┆     ┆     ┆     ┆     ┆     ┆     ┆     ┆     │\n",
       "│     ┆ …   ┆     ┆     ┆     ┆ r…  ┆     ┆     ┆ …   ┆     ┆     ┆     ┆     ┆     ┆     ┆     ┆     │\n",
       "│ 481 ┆ Suz ┆ Suz ┆ 202 ┆ fal ┆ Suz ┆ 199 ┆ art ┆ htt ┆ []  ┆ []  ┆ [\"T ┆ 529 ┆ [53 ┆ bil ┆ 0.6 ┆ Neu │\n",
       "│ 286 ┆ uki ┆ uki ┆ 3-0 ┆ se  ┆ uki ┆ 9-1 ┆ icl ┆ ps: ┆     ┆     ┆ ran ┆     ┆ 0]  ┆ er  ┆ 152 ┆ tra │\n",
       "│ 6   ┆ Wag ┆ Wag ┆ 6-2 ┆     ┆ s   ┆ 1-0 ┆ e_d ┆ //e ┆     ┆     ┆ spo ┆     ┆     ┆     ┆     ┆ l   │\n",
       "│     ┆ gon ┆ gon ┆ 9   ┆     ┆ lil ┆ 9   ┆ efa ┆ kst ┆     ┆     ┆ rtm ┆     ┆     ┆     ┆     ┆     │\n",
       "│     ┆ R   ┆ R - ┆ 07: ┆     ┆ le  ┆ 23: ┆ ult ┆ rab ┆     ┆     ┆ idd ┆     ┆     ┆     ┆     ┆     │\n",
       "│     ┆     ┆ tes ┆ 12: ┆     ┆ Wag ┆ 35: ┆     ┆ lad ┆     ┆     ┆ el\" ┆     ┆     ┆     ┆     ┆     │\n",
       "│     ┆     ┆ tet ┆ 22  ┆     ┆ on  ┆ 00  ┆     ┆ et. ┆     ┆     ┆ ,   ┆     ┆     ┆     ┆     ┆     │\n",
       "│     ┆     ┆ af  ┆     ┆     ┆ R   ┆     ┆     ┆ dk/ ┆     ┆     ┆ \"Bi ┆     ┆     ┆     ┆     ┆     │\n",
       "│     ┆     ┆ Ek… ┆     ┆     ┆ på  ┆     ┆     ┆ bil ┆     ┆     ┆ l\"] ┆     ┆     ┆     ┆     ┆     │\n",
       "│     ┆     ┆     ┆     ┆     ┆ vej ┆     ┆     ┆ er/ ┆     ┆     ┆     ┆     ┆     ┆     ┆     ┆     │\n",
       "│     ┆     ┆     ┆     ┆     ┆ m…  ┆     ┆     ┆ …   ┆     ┆     ┆     ┆     ┆     ┆     ┆     ┆     │\n",
       "│ 324 ┆ Blå ┆     ┆ 202 ┆ fal ┆ Nav ┆ 199 ┆ art ┆ htt ┆ []  ┆ []  ┆ [\"E ┆ 118 ┆ [13 ┆ nyh ┆ 0.8 ┆ Neu │\n",
       "│ 528 ┆ bog ┆     ┆ 3-0 ┆ se  ┆ n:  ┆ 8-1 ┆ icl ┆ ps: ┆     ┆     ┆ rhv ┆     ┆ 3]  ┆ ede ┆ 101 ┆ tra │\n",
       "│ 7   ┆ :   ┆     ┆ 6-2 ┆     ┆ Kla ┆ 2-2 ┆ e_d ┆ //e ┆     ┆     ┆ erv ┆     ┆     ┆ r   ┆     ┆ l   │\n",
       "│     ┆ Kla ┆     ┆ 9   ┆     ┆ us  ┆ 7   ┆ efa ┆ kst ┆     ┆     ┆ \",  ┆     ┆     ┆     ┆     ┆     │\n",
       "│     ┆ us  ┆     ┆ 06: ┆     ┆ Ber ┆ 12: ┆ ult ┆ rab ┆     ┆     ┆ \"Ke ┆     ┆     ┆     ┆     ┆     │\n",
       "│     ┆ Ber ┆     ┆ 24: ┆     ┆ ggr ┆ 05: ┆     ┆ lad ┆     ┆     ┆ ndt ┆     ┆     ┆     ┆     ┆     │\n",
       "│     ┆ ggr ┆     ┆ 55  ┆     ┆ een ┆ 00  ┆     ┆ et. ┆     ┆     ┆ \",  ┆     ┆     ┆     ┆     ┆     │\n",
       "│     ┆ een ┆     ┆     ┆     ┆ .   ┆     ┆     ┆ dk/ ┆     ┆     ┆ …   ┆     ┆     ┆     ┆     ┆     │\n",
       "│     ┆     ┆     ┆     ┆     ┆ Fød ┆     ┆     ┆ nyh ┆     ┆     ┆ \"An ┆     ┆     ┆     ┆     ┆     │\n",
       "│     ┆     ┆     ┆     ┆     ┆ t:  ┆     ┆     ┆ ede ┆     ┆     ┆ sæt ┆     ┆     ┆     ┆     ┆     │\n",
       "│     ┆     ┆     ┆     ┆     ┆ 3…  ┆     ┆     ┆ …   ┆     ┆     ┆ t…  ┆     ┆     ┆     ┆     ┆     │\n",
       "└─────┴─────┴─────┴─────┴─────┴─────┴─────┴─────┴─────┴─────┴─────┴─────┴─────┴─────┴─────┴─────┴─────┘"
      ]
     },
     "execution_count": 5,
     "metadata": {},
     "output_type": "execute_result"
    }
   ],
   "source": [
    "droppable_columns = [\"total_inviews\", \"total_pageviews\", \"total_read_time\", \"image_ids\"]\n",
    "dataProcesser.process_dataframe(df = dataProcesser.articles_df, remove_columns = droppable_columns, sort_by = \"published_time\")"
   ]
  },
  {
   "cell_type": "markdown",
   "metadata": {},
   "source": []
  },
  {
   "cell_type": "markdown",
   "metadata": {},
   "source": [
    "### Behaviours DataFrame"
   ]
  },
  {
   "cell_type": "markdown",
   "metadata": {},
   "source": [
    "#### Exploration"
   ]
  },
  {
   "cell_type": "markdown",
   "metadata": {},
   "source": [
    "This DataFrame contains all information about interactions between users and items over 7 days"
   ]
  },
  {
   "cell_type": "code",
   "execution_count": 6,
   "metadata": {},
   "outputs": [
    {
     "data": {
      "text/html": [
       "<div><style>\n",
       ".dataframe > thead > tr,\n",
       ".dataframe > tbody > tr {\n",
       "  text-align: right;\n",
       "  white-space: pre-wrap;\n",
       "}\n",
       "</style>\n",
       "<small>shape: (1, 17)</small><table border=\"1\" class=\"dataframe\"><thead><tr><th>impression_id</th><th>article_id</th><th>impression_time</th><th>read_time</th><th>scroll_percentage</th><th>device_type</th><th>article_ids_inview</th><th>article_ids_clicked</th><th>user_id</th><th>is_sso_user</th><th>gender</th><th>postcode</th><th>age</th><th>is_subscriber</th><th>session_id</th><th>next_read_time</th><th>next_scroll_percentage</th></tr><tr><td>u32</td><td>i32</td><td>datetime[μs]</td><td>f32</td><td>f32</td><td>i8</td><td>list[i32]</td><td>list[i32]</td><td>u32</td><td>bool</td><td>i8</td><td>i8</td><td>i8</td><td>bool</td><td>u32</td><td>f32</td><td>f32</td></tr></thead><tbody><tr><td>149474</td><td>null</td><td>2023-05-24 07:47:53</td><td>13.0</td><td>null</td><td>2</td><td>[9778623, 9778682, … 9778728]</td><td>[9778657]</td><td>139836</td><td>false</td><td>null</td><td>null</td><td>null</td><td>false</td><td>759</td><td>7.0</td><td>22.0</td></tr></tbody></table></div>"
      ],
      "text/plain": [
       "shape: (1, 17)\n",
       "┌─────┬─────┬─────┬─────┬─────┬─────┬─────┬─────┬─────┬─────┬─────┬─────┬─────┬─────┬─────┬─────┬─────┐\n",
       "│ imp ┆ art ┆ imp ┆ rea ┆ scr ┆ dev ┆ art ┆ art ┆ use ┆ is_ ┆ gen ┆ pos ┆ age ┆ is_ ┆ ses ┆ nex ┆ nex │\n",
       "│ res ┆ icl ┆ res ┆ d_t ┆ oll ┆ ice ┆ icl ┆ icl ┆ r_i ┆ sso ┆ der ┆ tco ┆ --- ┆ sub ┆ sio ┆ t_r ┆ t_s │\n",
       "│ sio ┆ e_i ┆ sio ┆ ime ┆ _pe ┆ _ty ┆ e_i ┆ e_i ┆ d   ┆ _us ┆ --- ┆ de  ┆ i8  ┆ scr ┆ n_i ┆ ead ┆ cro │\n",
       "│ n_i ┆ d   ┆ n_t ┆ --- ┆ rce ┆ pe  ┆ ds_ ┆ ds_ ┆ --- ┆ er  ┆ i8  ┆ --- ┆     ┆ ibe ┆ d   ┆ _ti ┆ ll_ │\n",
       "│ d   ┆ --- ┆ ime ┆ f32 ┆ nta ┆ --- ┆ inv ┆ cli ┆ u32 ┆ --- ┆     ┆ i8  ┆     ┆ r   ┆ --- ┆ me  ┆ per │\n",
       "│ --- ┆ i32 ┆ --- ┆     ┆ ge  ┆ i8  ┆ iew ┆ cke ┆     ┆ boo ┆     ┆     ┆     ┆ --- ┆ u32 ┆ --- ┆ cen │\n",
       "│ u32 ┆     ┆ dat ┆     ┆ --- ┆     ┆ --- ┆ d   ┆     ┆ l   ┆     ┆     ┆     ┆ boo ┆     ┆ f32 ┆ tag │\n",
       "│     ┆     ┆ eti ┆     ┆ f32 ┆     ┆ lis ┆ --- ┆     ┆     ┆     ┆     ┆     ┆ l   ┆     ┆     ┆ e   │\n",
       "│     ┆     ┆ me[ ┆     ┆     ┆     ┆ t[i ┆ lis ┆     ┆     ┆     ┆     ┆     ┆     ┆     ┆     ┆ --- │\n",
       "│     ┆     ┆ μs] ┆     ┆     ┆     ┆ 32] ┆ t[i ┆     ┆     ┆     ┆     ┆     ┆     ┆     ┆     ┆ f32 │\n",
       "│     ┆     ┆     ┆     ┆     ┆     ┆     ┆ 32] ┆     ┆     ┆     ┆     ┆     ┆     ┆     ┆     ┆     │\n",
       "╞═════╪═════╪═════╪═════╪═════╪═════╪═════╪═════╪═════╪═════╪═════╪═════╪═════╪═════╪═════╪═════╪═════╡\n",
       "│ 149 ┆ nul ┆ 202 ┆ 13. ┆ nul ┆ 2   ┆ [97 ┆ [97 ┆ 139 ┆ fal ┆ nul ┆ nul ┆ nul ┆ fal ┆ 759 ┆ 7.0 ┆ 22. │\n",
       "│ 474 ┆ l   ┆ 3-0 ┆ 0   ┆ l   ┆     ┆ 786 ┆ 786 ┆ 836 ┆ se  ┆ l   ┆ l   ┆ l   ┆ se  ┆     ┆     ┆ 0   │\n",
       "│     ┆     ┆ 5-2 ┆     ┆     ┆     ┆ 23, ┆ 57] ┆     ┆     ┆     ┆     ┆     ┆     ┆     ┆     ┆     │\n",
       "│     ┆     ┆ 4   ┆     ┆     ┆     ┆ 977 ┆     ┆     ┆     ┆     ┆     ┆     ┆     ┆     ┆     ┆     │\n",
       "│     ┆     ┆ 07: ┆     ┆     ┆     ┆ 868 ┆     ┆     ┆     ┆     ┆     ┆     ┆     ┆     ┆     ┆     │\n",
       "│     ┆     ┆ 47: ┆     ┆     ┆     ┆ 2,  ┆     ┆     ┆     ┆     ┆     ┆     ┆     ┆     ┆     ┆     │\n",
       "│     ┆     ┆ 53  ┆     ┆     ┆     ┆ …   ┆     ┆     ┆     ┆     ┆     ┆     ┆     ┆     ┆     ┆     │\n",
       "│     ┆     ┆     ┆     ┆     ┆     ┆ 977 ┆     ┆     ┆     ┆     ┆     ┆     ┆     ┆     ┆     ┆     │\n",
       "│     ┆     ┆     ┆     ┆     ┆     ┆ 872 ┆     ┆     ┆     ┆     ┆     ┆     ┆     ┆     ┆     ┆     │\n",
       "│     ┆     ┆     ┆     ┆     ┆     ┆ 8]  ┆     ┆     ┆     ┆     ┆     ┆     ┆     ┆     ┆     ┆     │\n",
       "└─────┴─────┴─────┴─────┴─────┴─────┴─────┴─────┴─────┴─────┴─────┴─────┴─────┴─────┴─────┴─────┴─────┘"
      ]
     },
     "execution_count": 6,
     "metadata": {},
     "output_type": "execute_result"
    }
   ],
   "source": [
    "dataProcesser.train_behaviors_df.head(1)"
   ]
  },
  {
   "cell_type": "markdown",
   "metadata": {},
   "source": [
    "By inspecting null values, we see that of 232887 interactions, around half of article_id's are empty and almost all gender, postcode and age values are lacking. While scroll_percentage also have around half of it's values missing, these may be corresponding to the article_id's that are null"
   ]
  },
  {
   "cell_type": "code",
   "execution_count": 7,
   "metadata": {},
   "outputs": [
    {
     "name": "stdout",
     "output_type": "stream",
     "text": [
      "Dataframe Shape =  (232887, 17)\n"
     ]
    },
    {
     "data": {
      "text/html": [
       "<div><style>\n",
       ".dataframe > thead > tr,\n",
       ".dataframe > tbody > tr {\n",
       "  text-align: right;\n",
       "  white-space: pre-wrap;\n",
       "}\n",
       "</style>\n",
       "<small>shape: (1, 17)</small><table border=\"1\" class=\"dataframe\"><thead><tr><th>impression_id</th><th>article_id</th><th>impression_time</th><th>read_time</th><th>scroll_percentage</th><th>device_type</th><th>article_ids_inview</th><th>article_ids_clicked</th><th>user_id</th><th>is_sso_user</th><th>gender</th><th>postcode</th><th>age</th><th>is_subscriber</th><th>session_id</th><th>next_read_time</th><th>next_scroll_percentage</th></tr><tr><td>u32</td><td>u32</td><td>u32</td><td>u32</td><td>u32</td><td>u32</td><td>u32</td><td>u32</td><td>u32</td><td>u32</td><td>u32</td><td>u32</td><td>u32</td><td>u32</td><td>u32</td><td>u32</td><td>u32</td></tr></thead><tbody><tr><td>0</td><td>162466</td><td>0</td><td>0</td><td>163789</td><td>0</td><td>0</td><td>0</td><td>0</td><td>0</td><td>216668</td><td>228214</td><td>226546</td><td>0</td><td>0</td><td>6218</td><td>26270</td></tr></tbody></table></div>"
      ],
      "text/plain": [
       "shape: (1, 17)\n",
       "┌─────┬─────┬─────┬─────┬─────┬─────┬─────┬─────┬─────┬─────┬─────┬─────┬─────┬─────┬─────┬─────┬─────┐\n",
       "│ imp ┆ art ┆ imp ┆ rea ┆ scr ┆ dev ┆ art ┆ art ┆ use ┆ is_ ┆ gen ┆ pos ┆ age ┆ is_ ┆ ses ┆ nex ┆ nex │\n",
       "│ res ┆ icl ┆ res ┆ d_t ┆ oll ┆ ice ┆ icl ┆ icl ┆ r_i ┆ sso ┆ der ┆ tco ┆ --- ┆ sub ┆ sio ┆ t_r ┆ t_s │\n",
       "│ sio ┆ e_i ┆ sio ┆ ime ┆ _pe ┆ _ty ┆ e_i ┆ e_i ┆ d   ┆ _us ┆ --- ┆ de  ┆ u32 ┆ scr ┆ n_i ┆ ead ┆ cro │\n",
       "│ n_i ┆ d   ┆ n_t ┆ --- ┆ rce ┆ pe  ┆ ds_ ┆ ds_ ┆ --- ┆ er  ┆ u32 ┆ --- ┆     ┆ ibe ┆ d   ┆ _ti ┆ ll_ │\n",
       "│ d   ┆ --- ┆ ime ┆ u32 ┆ nta ┆ --- ┆ inv ┆ cli ┆ u32 ┆ --- ┆     ┆ u32 ┆     ┆ r   ┆ --- ┆ me  ┆ per │\n",
       "│ --- ┆ u32 ┆ --- ┆     ┆ ge  ┆ u32 ┆ iew ┆ cke ┆     ┆ u32 ┆     ┆     ┆     ┆ --- ┆ u32 ┆ --- ┆ cen │\n",
       "│ u32 ┆     ┆ u32 ┆     ┆ --- ┆     ┆ --- ┆ d   ┆     ┆     ┆     ┆     ┆     ┆ u32 ┆     ┆ u32 ┆ tag │\n",
       "│     ┆     ┆     ┆     ┆ u32 ┆     ┆ u32 ┆ --- ┆     ┆     ┆     ┆     ┆     ┆     ┆     ┆     ┆ e   │\n",
       "│     ┆     ┆     ┆     ┆     ┆     ┆     ┆ u32 ┆     ┆     ┆     ┆     ┆     ┆     ┆     ┆     ┆ --- │\n",
       "│     ┆     ┆     ┆     ┆     ┆     ┆     ┆     ┆     ┆     ┆     ┆     ┆     ┆     ┆     ┆     ┆ u32 │\n",
       "╞═════╪═════╪═════╪═════╪═════╪═════╪═════╪═════╪═════╪═════╪═════╪═════╪═════╪═════╪═════╪═════╪═════╡\n",
       "│ 0   ┆ 162 ┆ 0   ┆ 0   ┆ 163 ┆ 0   ┆ 0   ┆ 0   ┆ 0   ┆ 0   ┆ 216 ┆ 228 ┆ 226 ┆ 0   ┆ 0   ┆ 621 ┆ 262 │\n",
       "│     ┆ 466 ┆     ┆     ┆ 789 ┆     ┆     ┆     ┆     ┆     ┆ 668 ┆ 214 ┆ 546 ┆     ┆     ┆ 8   ┆ 70  │\n",
       "└─────┴─────┴─────┴─────┴─────┴─────┴─────┴─────┴─────┴─────┴─────┴─────┴─────┴─────┴─────┴─────┴─────┘"
      ]
     },
     "execution_count": 7,
     "metadata": {},
     "output_type": "execute_result"
    }
   ],
   "source": [
    "print(\"Dataframe Shape = \", dataProcesser.train_behaviors_df.shape)\n",
    "dataProcesser.train_behaviors_df.null_count()"
   ]
  },
  {
   "cell_type": "markdown",
   "metadata": {},
   "source": [
    "We see that after removing the interactions from the mainpage, we have been reduced by 60%. Of the remaining 70K interactions, only 2% lack scroll data, this can be replaced by using mean. Furthermore, we see that around >92% of gender, postcode and age values are still missing, so we can't really predict these"
   ]
  },
  {
   "cell_type": "code",
   "execution_count": 8,
   "metadata": {},
   "outputs": [
    {
     "name": "stdout",
     "output_type": "stream",
     "text": [
      "Dataframe Shape =  (70421, 17)\n"
     ]
    },
    {
     "data": {
      "text/html": [
       "<div><style>\n",
       ".dataframe > thead > tr,\n",
       ".dataframe > tbody > tr {\n",
       "  text-align: right;\n",
       "  white-space: pre-wrap;\n",
       "}\n",
       "</style>\n",
       "<small>shape: (1, 17)</small><table border=\"1\" class=\"dataframe\"><thead><tr><th>impression_id</th><th>article_id</th><th>impression_time</th><th>read_time</th><th>scroll_percentage</th><th>device_type</th><th>article_ids_inview</th><th>article_ids_clicked</th><th>user_id</th><th>is_sso_user</th><th>gender</th><th>postcode</th><th>age</th><th>is_subscriber</th><th>session_id</th><th>next_read_time</th><th>next_scroll_percentage</th></tr><tr><td>u32</td><td>u32</td><td>u32</td><td>u32</td><td>u32</td><td>u32</td><td>u32</td><td>u32</td><td>u32</td><td>u32</td><td>u32</td><td>u32</td><td>u32</td><td>u32</td><td>u32</td><td>u32</td><td>u32</td></tr></thead><tbody><tr><td>0</td><td>0</td><td>0</td><td>0</td><td>1780</td><td>0</td><td>0</td><td>0</td><td>0</td><td>0</td><td>65481</td><td>68785</td><td>67972</td><td>0</td><td>0</td><td>3173</td><td>9129</td></tr></tbody></table></div>"
      ],
      "text/plain": [
       "shape: (1, 17)\n",
       "┌─────┬─────┬─────┬─────┬─────┬─────┬─────┬─────┬─────┬─────┬─────┬─────┬─────┬─────┬─────┬─────┬─────┐\n",
       "│ imp ┆ art ┆ imp ┆ rea ┆ scr ┆ dev ┆ art ┆ art ┆ use ┆ is_ ┆ gen ┆ pos ┆ age ┆ is_ ┆ ses ┆ nex ┆ nex │\n",
       "│ res ┆ icl ┆ res ┆ d_t ┆ oll ┆ ice ┆ icl ┆ icl ┆ r_i ┆ sso ┆ der ┆ tco ┆ --- ┆ sub ┆ sio ┆ t_r ┆ t_s │\n",
       "│ sio ┆ e_i ┆ sio ┆ ime ┆ _pe ┆ _ty ┆ e_i ┆ e_i ┆ d   ┆ _us ┆ --- ┆ de  ┆ u32 ┆ scr ┆ n_i ┆ ead ┆ cro │\n",
       "│ n_i ┆ d   ┆ n_t ┆ --- ┆ rce ┆ pe  ┆ ds_ ┆ ds_ ┆ --- ┆ er  ┆ u32 ┆ --- ┆     ┆ ibe ┆ d   ┆ _ti ┆ ll_ │\n",
       "│ d   ┆ --- ┆ ime ┆ u32 ┆ nta ┆ --- ┆ inv ┆ cli ┆ u32 ┆ --- ┆     ┆ u32 ┆     ┆ r   ┆ --- ┆ me  ┆ per │\n",
       "│ --- ┆ u32 ┆ --- ┆     ┆ ge  ┆ u32 ┆ iew ┆ cke ┆     ┆ u32 ┆     ┆     ┆     ┆ --- ┆ u32 ┆ --- ┆ cen │\n",
       "│ u32 ┆     ┆ u32 ┆     ┆ --- ┆     ┆ --- ┆ d   ┆     ┆     ┆     ┆     ┆     ┆ u32 ┆     ┆ u32 ┆ tag │\n",
       "│     ┆     ┆     ┆     ┆ u32 ┆     ┆ u32 ┆ --- ┆     ┆     ┆     ┆     ┆     ┆     ┆     ┆     ┆ e   │\n",
       "│     ┆     ┆     ┆     ┆     ┆     ┆     ┆ u32 ┆     ┆     ┆     ┆     ┆     ┆     ┆     ┆     ┆ --- │\n",
       "│     ┆     ┆     ┆     ┆     ┆     ┆     ┆     ┆     ┆     ┆     ┆     ┆     ┆     ┆     ┆     ┆ u32 │\n",
       "╞═════╪═════╪═════╪═════╪═════╪═════╪═════╪═════╪═════╪═════╪═════╪═════╪═════╪═════╪═════╪═════╪═════╡\n",
       "│ 0   ┆ 0   ┆ 0   ┆ 0   ┆ 178 ┆ 0   ┆ 0   ┆ 0   ┆ 0   ┆ 0   ┆ 654 ┆ 687 ┆ 679 ┆ 0   ┆ 0   ┆ 317 ┆ 912 │\n",
       "│     ┆     ┆     ┆     ┆ 0   ┆     ┆     ┆     ┆     ┆     ┆ 81  ┆ 85  ┆ 72  ┆     ┆     ┆ 3   ┆ 9   │\n",
       "└─────┴─────┴─────┴─────┴─────┴─────┴─────┴─────┴─────┴─────┴─────┴─────┴─────┴─────┴─────┴─────┴─────┘"
      ]
     },
     "execution_count": 8,
     "metadata": {},
     "output_type": "execute_result"
    }
   ],
   "source": [
    "df = dataProcesser.process_dataframe(dataProcesser.train_behaviors_df, filter_null_columns=[\"article_id\"])\n",
    "print(\"Dataframe Shape = \", df.shape)\n",
    "df.null_count()"
   ]
  },
  {
   "cell_type": "markdown",
   "metadata": {},
   "source": [
    "#### Summary"
   ]
  },
  {
   "cell_type": "markdown",
   "metadata": {},
   "source": [
    "**Filtering:** We can remove gender, postcode and age due to lacking data. We canalso remove next_read_time, next_scroll_percentage, article_ids_inview, article_ids_clicked as future data won't be used in our predictive algorithms. \n",
    "\n",
    "**Sorting:** We can sort by published_time if we want to. But this isn't required\n",
    "\n",
    "**Non-Null:** We can sort out all rows where article_id is null\n",
    "\n",
    "**Predict:** We can predict all scroll_percentage left after article_id is filtered out"
   ]
  },
  {
   "cell_type": "code",
   "execution_count": 10,
   "metadata": {},
   "outputs": [
    {
     "data": {
      "text/html": [
       "<div><style>\n",
       ".dataframe > thead > tr,\n",
       ".dataframe > tbody > tr {\n",
       "  text-align: right;\n",
       "  white-space: pre-wrap;\n",
       "}\n",
       "</style>\n",
       "<small>shape: (5, 10)</small><table border=\"1\" class=\"dataframe\"><thead><tr><th>impression_id</th><th>article_id</th><th>impression_time</th><th>read_time</th><th>scroll_percentage</th><th>device_type</th><th>user_id</th><th>is_sso_user</th><th>is_subscriber</th><th>session_id</th></tr><tr><td>u32</td><td>i32</td><td>datetime[μs]</td><td>f32</td><td>f32</td><td>i8</td><td>u32</td><td>bool</td><td>bool</td><td>u32</td></tr></thead><tbody><tr><td>153068</td><td>9778682</td><td>2023-05-24 07:09:04</td><td>78.0</td><td>100.0</td><td>1</td><td>151570</td><td>false</td><td>false</td><td>1976</td></tr><tr><td>153070</td><td>9777492</td><td>2023-05-24 07:13:14</td><td>26.0</td><td>100.0</td><td>1</td><td>151570</td><td>false</td><td>false</td><td>1976</td></tr><tr><td>153071</td><td>9778623</td><td>2023-05-24 07:11:08</td><td>125.0</td><td>100.0</td><td>1</td><td>151570</td><td>false</td><td>false</td><td>1976</td></tr><tr><td>153075</td><td>9777492</td><td>2023-05-24 07:13:58</td><td>26.0</td><td>100.0</td><td>1</td><td>151570</td><td>false</td><td>false</td><td>1976</td></tr><tr><td>153078</td><td>9777492</td><td>2023-05-24 07:13:46</td><td>7.0</td><td>100.0</td><td>1</td><td>151570</td><td>false</td><td>false</td><td>1976</td></tr></tbody></table></div>"
      ],
      "text/plain": [
       "shape: (5, 10)\n",
       "┌─────────┬─────────┬─────────┬─────────┬─────────┬─────────┬─────────┬─────────┬─────────┬────────┐\n",
       "│ impress ┆ article ┆ impress ┆ read_ti ┆ scroll_ ┆ device_ ┆ user_id ┆ is_sso_ ┆ is_subs ┆ sessio │\n",
       "│ ion_id  ┆ _id     ┆ ion_tim ┆ me      ┆ percent ┆ type    ┆ ---     ┆ user    ┆ criber  ┆ n_id   │\n",
       "│ ---     ┆ ---     ┆ e       ┆ ---     ┆ age     ┆ ---     ┆ u32     ┆ ---     ┆ ---     ┆ ---    │\n",
       "│ u32     ┆ i32     ┆ ---     ┆ f32     ┆ ---     ┆ i8      ┆         ┆ bool    ┆ bool    ┆ u32    │\n",
       "│         ┆         ┆ datetim ┆         ┆ f32     ┆         ┆         ┆         ┆         ┆        │\n",
       "│         ┆         ┆ e[μs]   ┆         ┆         ┆         ┆         ┆         ┆         ┆        │\n",
       "╞═════════╪═════════╪═════════╪═════════╪═════════╪═════════╪═════════╪═════════╪═════════╪════════╡\n",
       "│ 153068  ┆ 9778682 ┆ 2023-05 ┆ 78.0    ┆ 100.0   ┆ 1       ┆ 151570  ┆ false   ┆ false   ┆ 1976   │\n",
       "│         ┆         ┆ -24 07: ┆         ┆         ┆         ┆         ┆         ┆         ┆        │\n",
       "│         ┆         ┆ 09:04   ┆         ┆         ┆         ┆         ┆         ┆         ┆        │\n",
       "│ 153070  ┆ 9777492 ┆ 2023-05 ┆ 26.0    ┆ 100.0   ┆ 1       ┆ 151570  ┆ false   ┆ false   ┆ 1976   │\n",
       "│         ┆         ┆ -24 07: ┆         ┆         ┆         ┆         ┆         ┆         ┆        │\n",
       "│         ┆         ┆ 13:14   ┆         ┆         ┆         ┆         ┆         ┆         ┆        │\n",
       "│ 153071  ┆ 9778623 ┆ 2023-05 ┆ 125.0   ┆ 100.0   ┆ 1       ┆ 151570  ┆ false   ┆ false   ┆ 1976   │\n",
       "│         ┆         ┆ -24 07: ┆         ┆         ┆         ┆         ┆         ┆         ┆        │\n",
       "│         ┆         ┆ 11:08   ┆         ┆         ┆         ┆         ┆         ┆         ┆        │\n",
       "│ 153075  ┆ 9777492 ┆ 2023-05 ┆ 26.0    ┆ 100.0   ┆ 1       ┆ 151570  ┆ false   ┆ false   ┆ 1976   │\n",
       "│         ┆         ┆ -24 07: ┆         ┆         ┆         ┆         ┆         ┆         ┆        │\n",
       "│         ┆         ┆ 13:58   ┆         ┆         ┆         ┆         ┆         ┆         ┆        │\n",
       "│ 153078  ┆ 9777492 ┆ 2023-05 ┆ 7.0     ┆ 100.0   ┆ 1       ┆ 151570  ┆ false   ┆ false   ┆ 1976   │\n",
       "│         ┆         ┆ -24 07: ┆         ┆         ┆         ┆         ┆         ┆         ┆        │\n",
       "│         ┆         ┆ 13:46   ┆         ┆         ┆         ┆         ┆         ┆         ┆        │\n",
       "└─────────┴─────────┴─────────┴─────────┴─────────┴─────────┴─────────┴─────────┴─────────┴────────┘"
      ]
     },
     "execution_count": 10,
     "metadata": {},
     "output_type": "execute_result"
    }
   ],
   "source": [
    "remove_col = [\"gender\", \"postcode\", \"age\", \"next_read_time\", \"next_scroll_percentage\", \"article_ids_inview\", \"article_ids_clicked\"]\n",
    "non_null = [\"article_id\"]\n",
    "predict = [\"scroll_percentage\"] # The standard method is mean, which will work well \n",
    "\n",
    "dataProcesser.process_train_test_df(train_df=dataProcesser.train_behaviors_df, test_df=dataProcesser.test_behaviors_df, remove_columns = remove_col, filter_null_columns = non_null, predict_columns = predict).head()"
   ]
  },
  {
   "cell_type": "markdown",
   "metadata": {},
   "source": [
    "### Document Vectors"
   ]
  },
  {
   "cell_type": "markdown",
   "metadata": {},
   "source": [
    "#### Exploration"
   ]
  },
  {
   "cell_type": "markdown",
   "metadata": {},
   "source": [
    "We see that the dataProcesser contains no empty fields. So there isn't really much to do with this vector"
   ]
  },
  {
   "cell_type": "code",
   "execution_count": 12,
   "metadata": {},
   "outputs": [
    {
     "data": {
      "text/html": [
       "<div><style>\n",
       ".dataframe > thead > tr,\n",
       ".dataframe > tbody > tr {\n",
       "  text-align: right;\n",
       "  white-space: pre-wrap;\n",
       "}\n",
       "</style>\n",
       "<small>shape: (1, 2)</small><table border=\"1\" class=\"dataframe\"><thead><tr><th>article_id</th><th>document_vector</th></tr><tr><td>u32</td><td>u32</td></tr></thead><tbody><tr><td>0</td><td>0</td></tr></tbody></table></div>"
      ],
      "text/plain": [
       "shape: (1, 2)\n",
       "┌────────────┬─────────────────┐\n",
       "│ article_id ┆ document_vector │\n",
       "│ ---        ┆ ---             │\n",
       "│ u32        ┆ u32             │\n",
       "╞════════════╪═════════════════╡\n",
       "│ 0          ┆ 0               │\n",
       "└────────────┴─────────────────┘"
      ]
     },
     "execution_count": 12,
     "metadata": {},
     "output_type": "execute_result"
    }
   ],
   "source": [
    "dataProcesser.document_vectors_df.null_count()"
   ]
  },
  {
   "cell_type": "markdown",
   "metadata": {},
   "source": [
    "#### Summary"
   ]
  },
  {
   "cell_type": "markdown",
   "metadata": {},
   "source": [
    "This vector is perfect just the way it is. It could however be combined with the articles dataframe if needed"
   ]
  }
 ],
 "metadata": {
  "kernelspec": {
   "display_name": "venv",
   "language": "python",
   "name": "python3"
  },
  "language_info": {
   "codemirror_mode": {
    "name": "ipython",
    "version": 3
   },
   "file_extension": ".py",
   "mimetype": "text/x-python",
   "name": "python",
   "nbconvert_exporter": "python",
   "pygments_lexer": "ipython3",
   "version": "3.11.1"
  }
 },
 "nbformat": 4,
 "nbformat_minor": 2
}

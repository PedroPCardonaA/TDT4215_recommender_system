{
 "cells": [
  {
   "cell_type": "markdown",
   "metadata": {},
   "source": [
    "## Demonstration of a Ring Buffer Baseline Recommender System\n",
    "Here the demonstration of the ring buffer recommender is presented. It recommends items to the user based on which are present in the current *RingBuffer* (see implementation in *ring_buffer_baseline.py*). This way, it captures both recency of the items and the popularity through how many ring buffer entries each item has.\n",
    "\n",
    "It simply recommends the first item which is not the one the user is currently browsing, found by looking back in the ring buffer.\n",
    "\n",
    "The file also includes the evaluation of the recommender model using the metrics *Precision and Recall*."
   ]
  },
  {
   "cell_type": "code",
   "execution_count": 7,
   "metadata": {},
   "outputs": [],
   "source": [
    "import sys\n",
    "import os\n",
    "\n",
    "parent_dir = os.path.abspath(os.path.join(os.getcwd(), \"..\"))\n",
    "sys.path.append(parent_dir)\n",
    "from parquet_data_reader import ParquetDataReader\n",
    "from models.ring_buffer_baseline import RingBufferBaseline\n",
    "\n",
    "import polars as pl\n",
    "pl.Config.set_tbl_cols(-1)\n",
    "import numpy as np\n",
    "parquet_reader = ParquetDataReader()"
   ]
  },
  {
   "cell_type": "markdown",
   "metadata": {},
   "source": [
    "### Data Extraction and Processing"
   ]
  },
  {
   "cell_type": "code",
   "execution_count": 8,
   "metadata": {},
   "outputs": [
    {
     "name": "stdout",
     "output_type": "stream",
     "text": [
      "Random Split:\n",
      "Train shape: (99163, 4)\n",
      "Test shape: (42560, 4)\n",
      "\n",
      "Time-based Split:\n",
      "Train shape: (99207, 4)\n",
      "Test shape: (42516, 4)\n"
     ]
    }
   ],
   "source": [
    "import polars as pl\n",
    "from utils.baseline_processing import process_behavior_data, random_split, time_based_split\n",
    "\n",
    "train_behavior_df = parquet_reader.read_data(\"../../data/train/behaviors.parquet\")\n",
    "test_behaviours_df = parquet_reader.read_data('../../data/validation/behaviors.parquet')\n",
    "\n",
    "# Processes the data\n",
    "combined_df = process_behavior_data(train_behavior_df, test_behaviours_df)\n",
    "\n",
    "# ----- Method 1: Random Split -----\n",
    "train_random, test_random = random_split(combined_df, test_ratio=0.30)\n",
    "print(\"Random Split:\")\n",
    "print(\"Train shape:\", train_random.shape)\n",
    "print(\"Test shape:\", test_random.shape)\n",
    "\n",
    "# ----- Method 2: Time-based Split -----\n",
    "train_time, test_time = time_based_split(combined_df, test_ratio=0.30)\n",
    "print(\"\\nTime-based Split:\")\n",
    "print(\"Train shape:\", train_time.shape)\n",
    "print(\"Test shape:\", test_time.shape)\n"
   ]
  },
  {
   "cell_type": "markdown",
   "metadata": {},
   "source": [
    "### Method 1: Random Split of Train/Test for Recommendations"
   ]
  },
  {
   "cell_type": "code",
   "execution_count": 9,
   "metadata": {},
   "outputs": [
    {
     "name": "stdout",
     "output_type": "stream",
     "text": [
      "Recommendations for user 151570:\n",
      "[9771042, 9771042, 9767697, 9770541, 9769650]\n"
     ]
    }
   ],
   "source": [
    "# Creates a recommender and fits it to the training data split using the random split method\n",
    "recommender = RingBufferBaseline(behaviors=train_random)\n",
    "recommender.fit()\n",
    "\n",
    "user_id_test = 151570\n",
    "recommendations = recommender.recommend(user_id=user_id_test, n=5)\n",
    "\n",
    "print(f\"Recommendations for user {user_id_test}:\")\n",
    "print(recommendations)"
   ]
  },
  {
   "cell_type": "markdown",
   "metadata": {},
   "source": [
    "### Method 2: Time-based Split of Train/Test for Recommendations\n",
    "This methods splits the data into the oldest interactions *(test_ratio percent)*\n",
    "are used for testing, and the newest interactions are used for training. This happens after the total data (train and test) has been combined. "
   ]
  },
  {
   "cell_type": "code",
   "execution_count": 10,
   "metadata": {},
   "outputs": [
    {
     "name": "stdout",
     "output_type": "stream",
     "text": [
      "Recommendations for user 151570:\n",
      "[9771042, 9771042, 9767697, 9770541, 9769650]\n"
     ]
    }
   ],
   "source": [
    "# Creates a recommender and fits it to the training data split using the time-based split method\n",
    "recommender2 = RingBufferBaseline(behaviors=train_time)\n",
    "recommender2.fit()\n",
    "\n",
    "user_id_test2 = 151570\n",
    "recommendations2 = recommender.recommend(user_id=user_id_test2, n=5)\n",
    "\n",
    "print(f\"Recommendations for user {user_id_test2}:\")\n",
    "print(recommendations2)"
   ]
  },
  {
   "cell_type": "markdown",
   "metadata": {},
   "source": [
    "### Comparison: Evaluation of the Ring Buffer Baseline Recommender\n",
    "Comparing the two different data-splits for this  ring buffer baseline recommender using the metrics *Precision and Recall*.\n",
    "*FPR* is also printed for reference."
   ]
  },
  {
   "cell_type": "code",
   "execution_count": 11,
   "metadata": {},
   "outputs": [
    {
     "name": "stdout",
     "output_type": "stream",
     "text": [
      "\n",
      "Evaluation metrics (precision and recall at k):\n",
      "{'precision@k': np.float64(0.0025112897896244083), 'recall@k': np.float64(0.0026844134814096024), 'fpr@k': np.float64(0.002187635351535912)}\n",
      "\n",
      "Evaluation metrics (precision and recall at k):\n",
      "{'precision@k': np.float64(0.01882155822395979), 'recall@k': np.float64(0.03013248050153789), 'fpr@k': np.float64(0.004282433544948659)}\n"
     ]
    }
   ],
   "source": [
    "from utils.evaluation import perform_model_evaluation\n",
    "\n",
    "# Evaluates the recommender using the same random split data\n",
    "metrics = perform_model_evaluation(recommender, test_data=test_random, k=5)\n",
    "print(\"\\nEvaluation metrics (precision and recall at k):\")\n",
    "print(metrics)\n",
    "\n",
    "\n",
    "# Evaluates the recommender using time split data\n",
    "metrics2 = perform_model_evaluation(recommender2, test_data=test_time, k=5)\n",
    "print(\"\\nEvaluation metrics (precision and recall at k):\")\n",
    "print(metrics2)\n"
   ]
  },
  {
   "cell_type": "markdown",
   "metadata": {},
   "source": [
    "### Carbon Footprint\n",
    "This section creates an emissions.csv file in the \"output\"-folder\n",
    "It utilizes the code_carbon (`codecarbon EmissionsTracker`) to record the carbon footprint of the `fit` and the `recommend` methods of the model."
   ]
  },
  {
   "cell_type": "code",
   "execution_count": 12,
   "metadata": {},
   "outputs": [
    {
     "name": "stderr",
     "output_type": "stream",
     "text": [
      "[codecarbon INFO @ 10:00:05] [setup] RAM Tracking...\n",
      "[codecarbon INFO @ 10:00:05] [setup] CPU Tracking...\n",
      "[codecarbon WARNING @ 10:00:05] No CPU tracking mode found. Falling back on CPU constant mode. \n",
      " Windows OS detected: Please install Intel Power Gadget to measure CPU\n",
      "\n"
     ]
    },
    {
     "name": "stdout",
     "output_type": "stream",
     "text": [
      "\n",
      "Carbon footprint of the recommender:\n"
     ]
    },
    {
     "name": "stderr",
     "output_type": "stream",
     "text": [
      "[codecarbon WARNING @ 10:00:07] We saw that you have a 13th Gen Intel(R) Core(TM) i7-13700H but we don't know it. Please contact us.\n",
      "[codecarbon INFO @ 10:00:07] CPU Model on constant consumption mode: 13th Gen Intel(R) Core(TM) i7-13700H\n",
      "[codecarbon INFO @ 10:00:07] [setup] GPU Tracking...\n",
      "[codecarbon INFO @ 10:00:07] No GPU found.\n",
      "[codecarbon INFO @ 10:00:07] >>> Tracker's metadata:\n",
      "[codecarbon INFO @ 10:00:07]   Platform system: Windows-10-10.0.26100-SP0\n",
      "[codecarbon INFO @ 10:00:07]   Python version: 3.11.9\n",
      "[codecarbon INFO @ 10:00:07]   CodeCarbon version: 2.8.3\n",
      "[codecarbon INFO @ 10:00:07]   Available RAM : 15.731 GB\n",
      "[codecarbon INFO @ 10:00:07]   CPU count: 20\n",
      "[codecarbon INFO @ 10:00:07]   CPU model: 13th Gen Intel(R) Core(TM) i7-13700H\n",
      "[codecarbon INFO @ 10:00:07]   GPU count: None\n",
      "[codecarbon INFO @ 10:00:07]   GPU model: None\n",
      "[codecarbon INFO @ 10:00:10] Saving emissions data to file c:\\Users\\magnu\\NewDesk\\An.sys\\TDT4215\\recommender_system\\demostrations\\output\\ring_buffer_fit_emission.csv\n",
      "[codecarbon INFO @ 10:00:10] Energy consumed for RAM : 0.000000 kWh. RAM Power : 5.899243354797363 W\n",
      "[codecarbon INFO @ 10:00:10] Energy consumed for all CPUs : 0.000001 kWh. Total CPU Power : 42.5 W\n",
      "[codecarbon INFO @ 10:00:10] 0.000001 kWh of electricity used since the beginning.\n",
      "[codecarbon INFO @ 10:00:10] [setup] RAM Tracking...\n",
      "[codecarbon INFO @ 10:00:10] [setup] CPU Tracking...\n",
      "[codecarbon WARNING @ 10:00:10] No CPU tracking mode found. Falling back on CPU constant mode. \n",
      " Windows OS detected: Please install Intel Power Gadget to measure CPU\n",
      "\n",
      "[codecarbon WARNING @ 10:00:12] We saw that you have a 13th Gen Intel(R) Core(TM) i7-13700H but we don't know it. Please contact us.\n",
      "[codecarbon INFO @ 10:00:12] CPU Model on constant consumption mode: 13th Gen Intel(R) Core(TM) i7-13700H\n",
      "[codecarbon INFO @ 10:00:12] [setup] GPU Tracking...\n",
      "[codecarbon INFO @ 10:00:12] No GPU found.\n",
      "[codecarbon INFO @ 10:00:12] >>> Tracker's metadata:\n",
      "[codecarbon INFO @ 10:00:12]   Platform system: Windows-10-10.0.26100-SP0\n",
      "[codecarbon INFO @ 10:00:12]   Python version: 3.11.9\n",
      "[codecarbon INFO @ 10:00:12]   CodeCarbon version: 2.8.3\n",
      "[codecarbon INFO @ 10:00:12]   Available RAM : 15.731 GB\n",
      "[codecarbon INFO @ 10:00:12]   CPU count: 20\n",
      "[codecarbon INFO @ 10:00:12]   CPU model: 13th Gen Intel(R) Core(TM) i7-13700H\n",
      "[codecarbon INFO @ 10:00:12]   GPU count: None\n",
      "[codecarbon INFO @ 10:00:12]   GPU model: None\n",
      "[codecarbon INFO @ 10:00:15] Saving emissions data to file c:\\Users\\magnu\\NewDesk\\An.sys\\TDT4215\\recommender_system\\demostrations\\output\\ring_buffer_recommend_emission.csv\n",
      "[codecarbon INFO @ 10:00:15] Energy consumed for RAM : 0.000000 kWh. RAM Power : 5.899243354797363 W\n",
      "[codecarbon INFO @ 10:00:15] Energy consumed for all CPUs : 0.000000 kWh. Total CPU Power : 42.5 W\n",
      "[codecarbon INFO @ 10:00:15] 0.000000 kWh of electricity used since the beginning.\n"
     ]
    },
    {
     "data": {
      "text/plain": [
       "{'fit': (None, 4.0160640257330855e-08),\n",
       " 'recommend': ([9771042, 9771042, 9767697, 9770541, 9769650],\n",
       "  6.224970916294863e-09)}"
      ]
     },
     "execution_count": 12,
     "metadata": {},
     "output_type": "execute_result"
    }
   ],
   "source": [
    "from utils.evaluation import track_model_energy\n",
    "\n",
    "print(\"\\nCarbon footprint of the recommender:\")\n",
    "footprint = track_model_energy(recommender, \"ring_buffer\", user_id=user_id_test2, n=5)\n",
    "footprint"
   ]
  }
 ],
 "metadata": {
  "kernelspec": {
   "display_name": "venv",
   "language": "python",
   "name": "python3"
  },
  "language_info": {
   "codemirror_mode": {
    "name": "ipython",
    "version": 3
   },
   "file_extension": ".py",
   "mimetype": "text/x-python",
   "name": "python",
   "nbconvert_exporter": "python",
   "pygments_lexer": "ipython3",
   "version": "3.11.9"
  }
 },
 "nbformat": 4,
 "nbformat_minor": 2
}

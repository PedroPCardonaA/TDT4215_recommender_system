{
 "cells": [
  {
   "cell_type": "markdown",
   "metadata": {},
   "source": [
    "## Demonstration of a Ring Buffer Baseline Recommender System\n",
    "Here the demonstration of the ring buffer recommender is presented. It recommends items to the user based on which are present in the current *RingBuffer* (see implementation in *ring_buffer_baseline.py*). This way, it captures both recency of the items and the popularity through how many ring buffer entries each item has.\n",
    "\n",
    "It simply recommends the first item which is not the one the user is currently browsing, found by looking back in the ring buffer.\n",
    "\n",
    "The file also includes the evaluation of the recommender model using the metrics *Precision and Recall*."
   ]
  },
  {
   "cell_type": "code",
   "execution_count": 13,
   "metadata": {},
   "outputs": [],
   "source": [
    "import sys\n",
    "import os\n",
    "\n",
    "parent_dir = os.path.abspath(os.path.join(os.getcwd(), \"..\"))\n",
    "sys.path.append(parent_dir)\n",
    "from parquet_data_reader import ParquetDataReader\n",
    "from models.ring_buffer_baseline import RingBufferBaseline\n",
    "\n",
    "import polars as pl\n",
    "pl.Config.set_tbl_cols(-1)\n",
    "import numpy as np\n",
    "parquet_reader = ParquetDataReader()"
   ]
  },
  {
   "cell_type": "markdown",
   "metadata": {},
   "source": [
    "### Data Extraction and Processing"
   ]
  },
  {
   "cell_type": "code",
   "execution_count": 14,
   "metadata": {},
   "outputs": [
    {
     "name": "stdout",
     "output_type": "stream",
     "text": [
      "Random Split:\n",
      "Train shape: (99215, 4)\n",
      "Test shape: (42508, 4)\n",
      "\n",
      "Time-based Split:\n",
      "Train shape: (99207, 4)\n",
      "Test shape: (42516, 4)\n"
     ]
    }
   ],
   "source": [
    "import polars as pl\n",
    "from utils.baseline_processing import process_behavior_data, random_split, time_based_split\n",
    "\n",
    "train_behavior_df = parquet_reader.read_data(\"../../data/train/behaviors.parquet\")\n",
    "test_behaviours_df = parquet_reader.read_data('../../data/validation/behaviors.parquet')\n",
    "\n",
    "# Processes the data\n",
    "combined_df = process_behavior_data(train_behavior_df, test_behaviours_df)\n",
    "\n",
    "# ----- Method 1: Random Split -----\n",
    "train_random, test_random = random_split(combined_df, test_ratio=0.30)\n",
    "print(\"Random Split:\")\n",
    "print(\"Train shape:\", train_random.shape)\n",
    "print(\"Test shape:\", test_random.shape)\n",
    "\n",
    "# ----- Method 2: Time-based Split -----\n",
    "train_time, test_time = time_based_split(combined_df, test_ratio=0.30)\n",
    "print(\"\\nTime-based Split:\")\n",
    "print(\"Train shape:\", train_time.shape)\n",
    "print(\"Test shape:\", test_time.shape)\n"
   ]
  },
  {
   "cell_type": "markdown",
   "metadata": {},
   "source": [
    "### Method 1: Random Split of Train/Test for Recommendations"
   ]
  },
  {
   "cell_type": "code",
   "execution_count": 15,
   "metadata": {},
   "outputs": [
    {
     "name": "stdout",
     "output_type": "stream",
     "text": [
      "Recommendations for user 151570:\n",
      "[9770989, 9771042, 9767697, 9770882, 9769650]\n"
     ]
    }
   ],
   "source": [
    "# Creates a recommender and fits it to the training data split using the random split method\n",
    "recommender = RingBufferBaseline(behaviors=train_random)\n",
    "recommender.fit()\n",
    "\n",
    "user_id_test = 151570\n",
    "recommendations = recommender.recommend(user_id=user_id_test, n=5)\n",
    "\n",
    "print(f\"Recommendations for user {user_id_test}:\")\n",
    "print(recommendations)"
   ]
  },
  {
   "cell_type": "markdown",
   "metadata": {},
   "source": [
    "### Method 2: Time-based Split of Train/Test for Recommendations\n",
    "This methods splits the data into the oldest interactions *(test_ratio percent)*\n",
    "are used for testing, and the newest interactions are used for training. This happens after the total data (train and test) has been combined. "
   ]
  },
  {
   "cell_type": "code",
   "execution_count": 16,
   "metadata": {},
   "outputs": [
    {
     "name": "stdout",
     "output_type": "stream",
     "text": [
      "Recommendations for user 151570:\n",
      "[9770989, 9771042, 9767697, 9770882, 9769650]\n"
     ]
    }
   ],
   "source": [
    "# Creates a recommender and fits it to the training data split using the time-based split method\n",
    "recommender2 = RingBufferBaseline(behaviors=train_time)\n",
    "recommender2.fit()\n",
    "\n",
    "user_id_test2 = 151570\n",
    "recommendations2 = recommender.recommend(user_id=user_id_test2, n=5)\n",
    "\n",
    "print(f\"Recommendations for user {user_id_test2}:\")\n",
    "print(recommendations2)"
   ]
  },
  {
   "cell_type": "markdown",
   "metadata": {},
   "source": [
    "### Comparison: Evaluation of the Ring Buffer Baseline Recommender\n",
    "Comparing the two different data-splits for this  ring buffer baseline recommender using the metrics *Precision and Recall*.\n",
    "*FPR* is also printed for reference."
   ]
  },
  {
   "cell_type": "code",
   "execution_count": 17,
   "metadata": {},
   "outputs": [
    {
     "name": "stdout",
     "output_type": "stream",
     "text": [
      "\n",
      "Evaluation metrics (precision and recall at k):\n",
      "{'precision@k': np.float64(0.0018275900033028736), 'recall@k': np.float64(0.0022642150467905246), 'fpr@k': np.float64(0.002185296065103924)}\n",
      "\n",
      "Evaluation metrics (precision and recall at k):\n",
      "{'precision@k': np.float64(0.01882155822395979), 'recall@k': np.float64(0.03013248050153789), 'fpr@k': np.float64(0.004282433544948659)}\n"
     ]
    }
   ],
   "source": [
    "from utils.evaluation import perform_model_evaluation\n",
    "\n",
    "# Evaluates the recommender using the same random split data\n",
    "metrics = perform_model_evaluation(recommender, test_data=test_random, k=5)\n",
    "print(\"\\nEvaluation metrics (precision and recall at k):\")\n",
    "print(metrics)\n",
    "\n",
    "\n",
    "# Evaluates the recommender using time split data\n",
    "metrics2 = perform_model_evaluation(recommender2, test_data=test_time, k=5)\n",
    "print(\"\\nEvaluation metrics (precision and recall at k):\")\n",
    "print(metrics2)\n"
   ]
  },
  {
   "cell_type": "markdown",
   "metadata": {},
   "source": [
    "### Carbon Footprint\n",
    "This section creates an emissions.csv file in the \"output\"-folder\n",
    "It utilizes the code_carbon (`codecarbon EmissionsTracker`) to record the carbon footprint of the `fit` and the `recommend` methods of the model."
   ]
  },
  {
   "cell_type": "code",
   "execution_count": 18,
   "metadata": {},
   "outputs": [
    {
     "name": "stderr",
     "output_type": "stream",
     "text": [
      "[codecarbon INFO @ 17:30:34] [setup] RAM Tracking...\n",
      "[codecarbon INFO @ 17:30:34] [setup] CPU Tracking...\n",
      "[codecarbon WARNING @ 17:30:34] No CPU tracking mode found. Falling back on CPU constant mode. \n",
      " Windows OS detected: Please install Intel Power Gadget to measure CPU\n",
      "\n"
     ]
    },
    {
     "name": "stdout",
     "output_type": "stream",
     "text": [
      "\n",
      "Carbon footprint of the recommender:\n"
     ]
    },
    {
     "name": "stderr",
     "output_type": "stream",
     "text": [
      "[codecarbon WARNING @ 17:30:36] We saw that you have a 13th Gen Intel(R) Core(TM) i7-13700H but we don't know it. Please contact us.\n",
      "[codecarbon INFO @ 17:30:36] CPU Model on constant consumption mode: 13th Gen Intel(R) Core(TM) i7-13700H\n",
      "[codecarbon INFO @ 17:30:36] [setup] GPU Tracking...\n",
      "[codecarbon INFO @ 17:30:36] No GPU found.\n",
      "[codecarbon INFO @ 17:30:36] >>> Tracker's metadata:\n",
      "[codecarbon INFO @ 17:30:36]   Platform system: Windows-10-10.0.26100-SP0\n",
      "[codecarbon INFO @ 17:30:36]   Python version: 3.11.9\n",
      "[codecarbon INFO @ 17:30:36]   CodeCarbon version: 2.8.3\n",
      "[codecarbon INFO @ 17:30:36]   Available RAM : 15.731 GB\n",
      "[codecarbon INFO @ 17:30:36]   CPU count: 20\n",
      "[codecarbon INFO @ 17:30:36]   CPU model: 13th Gen Intel(R) Core(TM) i7-13700H\n",
      "[codecarbon INFO @ 17:30:36]   GPU count: None\n",
      "[codecarbon INFO @ 17:30:36]   GPU model: None\n",
      "[codecarbon INFO @ 17:30:39] Saving emissions data to file c:\\Users\\magnu\\NewDesk\\An.sys\\TDT4215\\recommender_system\\demostrations\\output\\ring_buffer_fit_emission.csv\n",
      "[codecarbon INFO @ 17:30:39] Energy consumed for RAM : 0.000000 kWh. RAM Power : 5.899243354797363 W\n",
      "[codecarbon INFO @ 17:30:39] Energy consumed for all CPUs : 0.000001 kWh. Total CPU Power : 42.5 W\n",
      "[codecarbon INFO @ 17:30:39] 0.000002 kWh of electricity used since the beginning.\n",
      "c:\\Users\\magnu\\NewDesk\\An.sys\\TDT4215\\venv\\Lib\\site-packages\\codecarbon\\output_methods\\file.py:52: FutureWarning: The behavior of DataFrame concatenation with empty or all-NA entries is deprecated. In a future version, this will no longer exclude empty or all-NA columns when determining the result dtypes. To retain the old behavior, exclude the relevant entries before the concat operation.\n",
      "  df = pd.concat([df, pd.DataFrame.from_records([dict(total.values)])])\n",
      "[codecarbon INFO @ 17:30:39] [setup] RAM Tracking...\n",
      "[codecarbon INFO @ 17:30:39] [setup] CPU Tracking...\n",
      "[codecarbon WARNING @ 17:30:39] No CPU tracking mode found. Falling back on CPU constant mode. \n",
      " Windows OS detected: Please install Intel Power Gadget to measure CPU\n",
      "\n",
      "[codecarbon WARNING @ 17:30:41] We saw that you have a 13th Gen Intel(R) Core(TM) i7-13700H but we don't know it. Please contact us.\n",
      "[codecarbon INFO @ 17:30:41] CPU Model on constant consumption mode: 13th Gen Intel(R) Core(TM) i7-13700H\n",
      "[codecarbon INFO @ 17:30:41] [setup] GPU Tracking...\n",
      "[codecarbon INFO @ 17:30:41] No GPU found.\n",
      "[codecarbon INFO @ 17:30:41] >>> Tracker's metadata:\n",
      "[codecarbon INFO @ 17:30:41]   Platform system: Windows-10-10.0.26100-SP0\n",
      "[codecarbon INFO @ 17:30:41]   Python version: 3.11.9\n",
      "[codecarbon INFO @ 17:30:41]   CodeCarbon version: 2.8.3\n",
      "[codecarbon INFO @ 17:30:41]   Available RAM : 15.731 GB\n",
      "[codecarbon INFO @ 17:30:41]   CPU count: 20\n",
      "[codecarbon INFO @ 17:30:41]   CPU model: 13th Gen Intel(R) Core(TM) i7-13700H\n",
      "[codecarbon INFO @ 17:30:41]   GPU count: None\n",
      "[codecarbon INFO @ 17:30:41]   GPU model: None\n",
      "[codecarbon INFO @ 17:30:44] Saving emissions data to file c:\\Users\\magnu\\NewDesk\\An.sys\\TDT4215\\recommender_system\\demostrations\\output\\ring_buffer_recommend_emission.csv\n",
      "[codecarbon INFO @ 17:30:44] Energy consumed for RAM : 0.000000 kWh. RAM Power : 5.899243354797363 W\n",
      "[codecarbon INFO @ 17:30:44] Energy consumed for all CPUs : 0.000000 kWh. Total CPU Power : 42.5 W\n",
      "[codecarbon INFO @ 17:30:44] 0.000000 kWh of electricity used since the beginning.\n",
      "c:\\Users\\magnu\\NewDesk\\An.sys\\TDT4215\\venv\\Lib\\site-packages\\codecarbon\\output_methods\\file.py:52: FutureWarning: The behavior of DataFrame concatenation with empty or all-NA entries is deprecated. In a future version, this will no longer exclude empty or all-NA columns when determining the result dtypes. To retain the old behavior, exclude the relevant entries before the concat operation.\n",
      "  df = pd.concat([df, pd.DataFrame.from_records([dict(total.values)])])\n"
     ]
    },
    {
     "data": {
      "text/plain": [
       "{'fit': (None, 4.945247108687953e-08),\n",
       " 'recommend': ([9770989, 9771042, 9767697, 9770882, 9769650],\n",
       "  4.4690985290953494e-09)}"
      ]
     },
     "execution_count": 18,
     "metadata": {},
     "output_type": "execute_result"
    }
   ],
   "source": [
    "from utils.evaluation import track_model_energy\n",
    "\n",
    "print(\"\\nCarbon footprint of the recommender:\")\n",
    "footprint = track_model_energy(recommender, \"ring_buffer\", user_id=user_id_test2, n=5)\n",
    "footprint"
   ]
  }
 ],
 "metadata": {
  "kernelspec": {
   "display_name": "venv",
   "language": "python",
   "name": "python3"
  },
  "language_info": {
   "codemirror_mode": {
    "name": "ipython",
    "version": 3
   },
   "file_extension": ".py",
   "mimetype": "text/x-python",
   "name": "python",
   "nbconvert_exporter": "python",
   "pygments_lexer": "ipython3",
   "version": "3.11.9"
  }
 },
 "nbformat": 4,
 "nbformat_minor": 2
}
